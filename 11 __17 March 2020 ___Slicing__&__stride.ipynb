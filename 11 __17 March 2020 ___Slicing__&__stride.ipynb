{
 "cells": [
  {
   "cell_type": "markdown",
   "metadata": {},
   "source": [
    "# indexing"
   ]
  },
  {
   "cell_type": "code",
   "execution_count": 8,
   "metadata": {},
   "outputs": [
    {
     "name": "stdout",
     "output_type": "stream",
     "text": [
      "I\n",
      "n\n",
      "d\n",
      "i\n",
      "a\n"
     ]
    }
   ],
   "source": [
    "s = 'India'\n",
    "\n",
    "# positive indexing\n",
    "print(s[0])\n",
    "print(s[1])\n",
    "print(s[2])\n",
    "print(s[3])\n",
    "print(s[4])"
   ]
  },
  {
   "cell_type": "code",
   "execution_count": 14,
   "metadata": {},
   "outputs": [
    {
     "name": "stdout",
     "output_type": "stream",
     "text": [
      "a\n",
      "i\n",
      "d\n",
      "n\n",
      "I\n"
     ]
    }
   ],
   "source": [
    "s = 'India'\n",
    "\n",
    "# negative indexing\n",
    "print(s[-1])\n",
    "print(s[-2])\n",
    "print(s[-3])\n",
    "print(s[-4])\n",
    "print(s[-5])"
   ]
  },
  {
   "cell_type": "code",
   "execution_count": 16,
   "metadata": {},
   "outputs": [
    {
     "name": "stdout",
     "output_type": "stream",
     "text": [
      "2\n",
      "8\n"
     ]
    }
   ],
   "source": [
    "# With list \n",
    "l = [2,3,4,5,6,7,8]\n",
    "\n",
    "# positive index\n",
    "print(l[0])\n",
    "\n",
    "\n",
    "# negative index\n",
    "print(l[-1])"
   ]
  },
  {
   "cell_type": "code",
   "execution_count": 18,
   "metadata": {},
   "outputs": [
    {
     "name": "stdout",
     "output_type": "stream",
     "text": [
      "2\n",
      "8\n"
     ]
    }
   ],
   "source": [
    "# With Tuple\n",
    "t = (2,3,4,5,6,7,8)\n",
    "\n",
    "# positive index\n",
    "print(t[0])\n",
    "\n",
    "# negative index\n",
    "print(t[-1])"
   ]
  },
  {
   "cell_type": "markdown",
   "metadata": {},
   "source": [
    "# Slicing"
   ]
  },
  {
   "cell_type": "code",
   "execution_count": 33,
   "metadata": {},
   "outputs": [
    {
     "name": "stdout",
     "output_type": "stream",
     "text": [
      "[2, 4, 6]\n",
      "[6, 8, 10]\n",
      "[2, 4, 6, 8]\n",
      "[8, 10, 12]\n"
     ]
    }
   ],
   "source": [
    "# With List\n",
    "l = [2,4,6,8,10,12]\n",
    "\n",
    "# positive slicing\n",
    "print(l[0:3])\n",
    "\n",
    "# from certain position\n",
    "print(l[2:5])\n",
    "\n",
    "# if start is omitted\n",
    "print(l[:4])\n",
    "\n",
    "# if end is omitted\n",
    "print(l[3:])"
   ]
  },
  {
   "cell_type": "code",
   "execution_count": 2,
   "metadata": {},
   "outputs": [
    {
     "name": "stdout",
     "output_type": "stream",
     "text": [
      "(2, 4, 6, 8, 10, 12)\n",
      "(4, 6, 8, 10)\n",
      "(2, 4, 6, 8, 10)\n",
      "(8, 10, 12)\n"
     ]
    }
   ],
   "source": [
    "# With Tuple\n",
    "t = (2,4,6,8,10,12)\n",
    "\n",
    "# negative slicing\n",
    "print(t[-6:])\n",
    "\n",
    "# from certain position\n",
    "print(t[-5:-1])\n",
    "\n",
    "# if start is omitted \n",
    "print(t[:-1])\n",
    "\n",
    "# if end is omitted\n",
    "print(t[-3:])"
   ]
  },
  {
   "cell_type": "markdown",
   "metadata": {},
   "source": [
    "# strides\n",
    "        - start:end:steps"
   ]
  },
  {
   "cell_type": "code",
   "execution_count": 5,
   "metadata": {},
   "outputs": [
    {
     "name": "stdout",
     "output_type": "stream",
     "text": [
      "[2, 4]\n",
      "[1, 3, 5, 7]\n",
      "[1, 3, 5]\n"
     ]
    }
   ],
   "source": [
    "# using List \n",
    "l = [1,2,3,4,5,6,7,8]\n",
    "\n",
    "# positive stride\n",
    "print(l[1:5:2])\n",
    "\n",
    "# if start is given and end is omited\n",
    "print(l[0::2])\n",
    "\n",
    "# if end is given and start is omitted\n",
    "print(l[:6:2])"
   ]
  },
  {
   "cell_type": "code",
   "execution_count": 24,
   "metadata": {},
   "outputs": [
    {
     "name": "stdout",
     "output_type": "stream",
     "text": [
      "aid\n",
      "ai\n"
     ]
    }
   ],
   "source": [
    "# using String\n",
    "s = 'India'\n",
    "\n",
    "# using negative strides\n",
    "print(s[4:1:-1])\n",
    "\n",
    "# if start is omitted\n",
    "print(s[:2:-1])\n",
    "\n",
    "# if end is omitted\n",
    "print(s[4::])"
   ]
  }
 ],
 "metadata": {
  "kernelspec": {
   "display_name": "Python 3",
   "language": "python",
   "name": "python3"
  },
  "language_info": {
   "codemirror_mode": {
    "name": "ipython",
    "version": 3
   },
   "file_extension": ".py",
   "mimetype": "text/x-python",
   "name": "python",
   "nbconvert_exporter": "python",
   "pygments_lexer": "ipython3",
   "version": "3.7.4"
  }
 },
 "nbformat": 4,
 "nbformat_minor": 2
}
