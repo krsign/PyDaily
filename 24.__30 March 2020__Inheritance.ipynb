{
 "cells": [
  {
   "cell_type": "code",
   "execution_count": 11,
   "metadata": {},
   "outputs": [
    {
     "name": "stdout",
     "output_type": "stream",
     "text": [
      "Parent Name: Lion\n",
      "Parent Name: Cub\n"
     ]
    }
   ],
   "source": [
    "# simple iheritance\n",
    "\n",
    "class Parent:\n",
    "    parent_name = ''\n",
    "    child_name = ''\n",
    "    def show_parent(self):\n",
    "        print('Parent Name:', self.parent_name)\n",
    "        \n",
    "class Child(Parent):\n",
    "    def show_child(self):\n",
    "        print('Parent Name:', self.child_name)\n",
    "        \n",
    "child1 = Child()\n",
    "child1.parent_name = 'Lion'\n",
    "child1.child_name = 'Cub'\n",
    "\n",
    "child1.show_parent()\n",
    "child1.show_child()"
   ]
  },
  {
   "cell_type": "code",
   "execution_count": 23,
   "metadata": {},
   "outputs": [
    {
     "name": "stdout",
     "output_type": "stream",
     "text": [
      "Parent Name: P\n",
      "Son Name:  S\n",
      "\n",
      "\n",
      "Parent Name: P\n",
      "Daughter Name: D\n"
     ]
    }
   ],
   "source": [
    "# Multiple child class\n",
    "\n",
    "class Mother:\n",
    "    parent_name = ''\n",
    "    child_name = ''\n",
    "    def show_parent(self):\n",
    "        print('Parent Name:', self.parent_name)\n",
    "        \n",
    "class Son(Mother):\n",
    "    def show_son(self):\n",
    "        print('Son Name: ', self.child_name)\n",
    "\n",
    "class Daughter(Mother):\n",
    "    def show_daughter(self):\n",
    "        print('Daughter Name:', self.child_name)\n",
    "        \n",
    "s = Son()\n",
    "s.parent_name = 'P'\n",
    "s.child_name = 'S'\n",
    "s.show_parent()\n",
    "s.show_son()\n",
    "\n",
    "print('\\n')\n",
    "d = Daughter()\n",
    "d.parent_name = 'P'\n",
    "d.child_name = 'D'\n",
    "d.show_parent()\n",
    "d.show_daughter()"
   ]
  },
  {
   "cell_type": "code",
   "execution_count": 29,
   "metadata": {},
   "outputs": [
    {
     "name": "stdout",
     "output_type": "stream",
     "text": [
      "Father Name: Abc\n",
      "Mother Nmae: Def\n"
     ]
    }
   ],
   "source": [
    "# Multiple Parent Classes\n",
    "\n",
    "class Father:\n",
    "    father_name = ''\n",
    "    def show_father(self):\n",
    "        print('Father Name:', self.father_name)\n",
    "        \n",
    "class Mother:\n",
    "    mother_name = ''\n",
    "    def show_mother(self):\n",
    "        print('Mother Name', self.mother_name)\n",
    "        \n",
    "class Son(Father, Mother):\n",
    "    def show_parent(self):\n",
    "        print('Father Name:', self.father_name)\n",
    "        print('Mother Nmae:', self.mother_name)\n",
    "        \n",
    "son1 = Son()\n",
    "son1.father_name = 'Abc'\n",
    "son1.mother_name = 'Def'\n",
    "son1.show_parent()"
   ]
  },
  {
   "cell_type": "code",
   "execution_count": 30,
   "metadata": {},
   "outputs": [
    {
     "name": "stdout",
     "output_type": "stream",
     "text": [
      "Family Detail\n",
      "Father Name: Abc\n",
      "Mother Nmae: Def\n"
     ]
    }
   ],
   "source": [
    "# Multilevel Inheritance\n",
    "\n",
    "class Family:\n",
    "    def show_family(self):\n",
    "        print('Family Detail')\n",
    "\n",
    "class Father(Family):\n",
    "    father_name = ''\n",
    "    def show_father(self):\n",
    "        print('Father Name:', self.father_name)\n",
    "        \n",
    "class Mother(Family):\n",
    "    mother_name = ''\n",
    "    def show_mother(self):\n",
    "        print('Mother Name', self.mother_name)\n",
    "        \n",
    "class Son(Father, Mother):\n",
    "    def show_parent(self):\n",
    "        print('Father Name:', self.father_name)\n",
    "        print('Mother Nmae:', self.mother_name)\n",
    "        \n",
    "son1 = Son()\n",
    "son1.father_name = 'Abc'\n",
    "son1.mother_name = 'Def'\n",
    "\n",
    "son1.show_family()\n",
    "son1.show_parent()"
   ]
  },
  {
   "cell_type": "code",
   "execution_count": 33,
   "metadata": {},
   "outputs": [
    {
     "name": "stdout",
     "output_type": "stream",
     "text": [
      "Father Name: Father\n",
      "Father Age : 50\n"
     ]
    }
   ],
   "source": [
    "# Call Parent Class Constructor from Child Class\n",
    "\n",
    "class Family:\n",
    "    \n",
    "    def __init__(self, name):\n",
    "        self.name = name\n",
    "        \n",
    "class Father(Family):\n",
    "    \n",
    "    def __init__(self, name, age):\n",
    "        \n",
    "        Family.__init__(self, name)\n",
    "        self.age = age\n",
    "        \n",
    "f = Father('Father', '50')\n",
    "\n",
    "print('Father Name:', f.name)\n",
    "print('Father Age :',f.age)"
   ]
  }
 ],
 "metadata": {
  "kernelspec": {
   "display_name": "Python 3",
   "language": "python",
   "name": "python3"
  },
  "language_info": {
   "codemirror_mode": {
    "name": "ipython",
    "version": 3
   },
   "file_extension": ".py",
   "mimetype": "text/x-python",
   "name": "python",
   "nbconvert_exporter": "python",
   "pygments_lexer": "ipython3",
   "version": "3.7.6"
  }
 },
 "nbformat": 4,
 "nbformat_minor": 4
}
