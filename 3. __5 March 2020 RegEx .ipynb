{
 "cells": [
  {
   "cell_type": "code",
   "execution_count": 2,
   "metadata": {},
   "outputs": [],
   "source": [
    "import re"
   ]
  },
  {
   "cell_type": "markdown",
   "metadata": {},
   "source": [
    "# findall\n",
    "    - findall() function returns a list containing all matches."
   ]
  },
  {
   "cell_type": "code",
   "execution_count": 5,
   "metadata": {
    "scrolled": true
   },
   "outputs": [
    {
     "name": "stdout",
     "output_type": "stream",
     "text": [
      "['on', 'on']\n"
     ]
    }
   ],
   "source": [
    "s = 'Python on Jupyter'\n",
    "find = re.findall('on',s)\n",
    "print(find)"
   ]
  },
  {
   "cell_type": "code",
   "execution_count": 6,
   "metadata": {},
   "outputs": [
    {
     "name": "stdout",
     "output_type": "stream",
     "text": [
      "[]\n"
     ]
    }
   ],
   "source": [
    "#if not found ...it will return an empty list\n",
    "s = 'Python on Jupyter'\n",
    "find = re.findall('kr',s)\n",
    "print(find)"
   ]
  },
  {
   "cell_type": "markdown",
   "metadata": {},
   "source": [
    "# search\n",
    "    - searches for a match string and a match-object,if there's a match\n",
    "    \n",
    "    - if there is more than one match , only first occurence of the match will be returned "
   ]
  },
  {
   "cell_type": "code",
   "execution_count": 12,
   "metadata": {},
   "outputs": [
    {
     "name": "stdout",
     "output_type": "stream",
     "text": [
      "First white-space occured:  <re.Match object; span=(3, 4), match=' '>\n"
     ]
    }
   ],
   "source": [
    "s = 'Sin Pajame by Becky'\n",
    "_search = re.search('\\s',s)\n",
    "print('First white-space occured: ',_search)"
   ]
  },
  {
   "cell_type": "code",
   "execution_count": 11,
   "metadata": {},
   "outputs": [
    {
     "name": "stdout",
     "output_type": "stream",
     "text": [
      "First white-space occured:  3\n"
     ]
    }
   ],
   "source": [
    "s = 'Sin Pajame by Becky'\n",
    "_search = re.search('\\s',s)\n",
    "print('First white-space occured: ',_search.start())"
   ]
  },
  {
   "cell_type": "markdown",
   "metadata": {},
   "source": [
    "# split\n",
    "    - returns a list where the string has been split at each match"
   ]
  },
  {
   "cell_type": "code",
   "execution_count": 13,
   "metadata": {},
   "outputs": [
    {
     "name": "stdout",
     "output_type": "stream",
     "text": [
      "['Sin', 'Pajame', 'by', 'Becky']\n"
     ]
    }
   ],
   "source": [
    "s = 'Sin Pajame by Becky'\n",
    "_split = re.split('\\s',s)\n",
    "print(_split)"
   ]
  },
  {
   "cell_type": "markdown",
   "metadata": {},
   "source": [
    "# maxsplit\n",
    "    - you can control number of occurence by specifying the maxsplit parameter\n",
    "    - default value of maxsplit is -1, meaning , no limit on the number of splits"
   ]
  },
  {
   "cell_type": "code",
   "execution_count": 21,
   "metadata": {},
   "outputs": [
    {
     "name": "stdout",
     "output_type": "stream",
     "text": [
      "['Sin', 'Pajame', 'by Becky']\n"
     ]
    }
   ],
   "source": [
    "s = 'Sin Pajame by Becky'\n",
    "_maxsplit = re.split('\\s',s,2)\n",
    "print(_maxsplit)"
   ]
  },
  {
   "cell_type": "markdown",
   "metadata": {},
   "source": [
    "# sub\n",
    "    - replaces one or many matches with a string "
   ]
  },
  {
   "cell_type": "markdown",
   "metadata": {},
   "source": [
    "# Metacharacters\n"
   ]
  },
  {
   "cell_type": "code",
   "execution_count": 23,
   "metadata": {},
   "outputs": [
    {
     "name": "stdout",
     "output_type": "stream",
     "text": [
      "['h', 'i', 'c', 'h', 'l', 'c', 'm', 'i', 'i', 'e', 'e', 'a']\n"
     ]
    }
   ],
   "source": [
    "text = 'Python in w3schools.com is quite easy!'\n",
    "# find all lower case character alphabetically between 'a'and 'm'\n",
    "a_m = re.findall('[a-m]',text)\n",
    "print(a_m)"
   ]
  },
  {
   "cell_type": "code",
   "execution_count": 24,
   "metadata": {},
   "outputs": [
    {
     "name": "stdout",
     "output_type": "stream",
     "text": [
      "['2', '1', '2', '0', '2', '0']\n"
     ]
    }
   ],
   "source": [
    "# \\d find digit in string\n",
    "text = 'Python2 is discountinued from 1 jan 2020'\n",
    "numbers = re.findall('\\d',text)\n",
    "print(numbers)"
   ]
  },
  {
   "cell_type": "code",
   "execution_count": 30,
   "metadata": {},
   "outputs": [
    {
     "name": "stdout",
     "output_type": "stream",
     "text": [
      "['Python']\n"
     ]
    }
   ],
   "source": [
    "# . \n",
    "s = 'Python 3.7'\n",
    "sequence = re.findall('Py...n',s)\n",
    "#Search for a sequence that starts with \"Py\", followed by three (any) characters, and an \"on\":\n",
    "print(sequence)"
   ]
  },
  {
   "cell_type": "code",
   "execution_count": 14,
   "metadata": {
    "scrolled": true
   },
   "outputs": [
    {
     "name": "stdout",
     "output_type": "stream",
     "text": [
      "Yes,the string with Python\n"
     ]
    }
   ],
   "source": [
    "# ˆ(shift + i)\n",
    "# starts with\n",
    "\n",
    "#check if the string starts with 'Python' \n",
    "\n",
    "text = 'Python interpreted!'\n",
    "x = re.findall('^Python',text)\n",
    "\n",
    "if (x):\n",
    "    print('Yes,the string with Python')\n",
    "else:\n",
    "    print('No Match')\n",
    "\n"
   ]
  },
  {
   "cell_type": "code",
   "execution_count": null,
   "metadata": {},
   "outputs": [],
   "source": []
  },
  {
   "cell_type": "code",
   "execution_count": null,
   "metadata": {},
   "outputs": [],
   "source": []
  },
  {
   "cell_type": "code",
   "execution_count": null,
   "metadata": {},
   "outputs": [],
   "source": []
  },
  {
   "cell_type": "code",
   "execution_count": null,
   "metadata": {},
   "outputs": [],
   "source": []
  },
  {
   "cell_type": "code",
   "execution_count": null,
   "metadata": {},
   "outputs": [],
   "source": []
  }
 ],
 "metadata": {
  "kernelspec": {
   "display_name": "Python 3",
   "language": "python",
   "name": "python3"
  },
  "language_info": {
   "codemirror_mode": {
    "name": "ipython",
    "version": 3
   },
   "file_extension": ".py",
   "mimetype": "text/x-python",
   "name": "python",
   "nbconvert_exporter": "python",
   "pygments_lexer": "ipython3",
   "version": "3.7.4"
  }
 },
 "nbformat": 4,
 "nbformat_minor": 2
}
