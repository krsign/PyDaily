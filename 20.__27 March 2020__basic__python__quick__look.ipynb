{
 "cells": [
  {
   "cell_type": "markdown",
   "metadata": {},
   "source": [
    "# Basic Data Types"
   ]
  },
  {
   "cell_type": "code",
   "execution_count": 1,
   "metadata": {},
   "outputs": [
    {
     "name": "stdout",
     "output_type": "stream",
     "text": [
      "Quick Look!\n"
     ]
    }
   ],
   "source": [
    "print('Quick Look!')"
   ]
  },
  {
   "cell_type": "code",
   "execution_count": 3,
   "metadata": {},
   "outputs": [
    {
     "name": "stdout",
     "output_type": "stream",
     "text": [
      "QuickLook\n"
     ]
    }
   ],
   "source": [
    "s1 = 'Quick'\n",
    "s2 = 'Look'\n",
    "print(s1 + s2)"
   ]
  },
  {
   "cell_type": "code",
   "execution_count": 10,
   "metadata": {},
   "outputs": [
    {
     "name": "stdout",
     "output_type": "stream",
     "text": [
      "Type of s1 : <class 'str'> and s2 :<class 'str'>\n",
      "Id of s1   : 4371348144 and s2 :4371347888\n",
      "Id of s3   : 4370055216\n"
     ]
    }
   ],
   "source": [
    "s1 = 'Quick'\n",
    "s2 = 'Look'\n",
    "s3 = s1 + s2\n",
    "print('Type of s1 : {} and s2 :{}'.format(type(s1), type(s2)))\n",
    "print('Id of s1   : {} and s2 :{}'.format(id(s1), id(s2)))\n",
    "print('Id of s3   :',id(s3))"
   ]
  },
  {
   "cell_type": "code",
   "execution_count": null,
   "metadata": {},
   "outputs": [],
   "source": []
  },
  {
   "cell_type": "code",
   "execution_count": null,
   "metadata": {},
   "outputs": [],
   "source": []
  }
 ],
 "metadata": {
  "kernelspec": {
   "display_name": "Python 3",
   "language": "python",
   "name": "python3"
  },
  "language_info": {
   "codemirror_mode": {
    "name": "ipython",
    "version": 3
   },
   "file_extension": ".py",
   "mimetype": "text/x-python",
   "name": "python",
   "nbconvert_exporter": "python",
   "pygments_lexer": "ipython3",
   "version": "3.7.6"
  }
 },
 "nbformat": 4,
 "nbformat_minor": 4
}
