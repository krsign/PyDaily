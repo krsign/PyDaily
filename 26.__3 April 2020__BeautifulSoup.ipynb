{
 "cells": [
  {
   "cell_type": "code",
   "execution_count": 12,
   "metadata": {},
   "outputs": [],
   "source": [
    "import requests\n",
    "from bs4 import BeautifulSoup"
   ]
  },
  {
   "cell_type": "code",
   "execution_count": 3,
   "metadata": {},
   "outputs": [
    {
     "name": "stdout",
     "output_type": "stream",
     "text": [
      "<Response [200]>\n"
     ]
    }
   ],
   "source": [
    "response = requests.get('https://www.flipkart.com/search?sid=tyy%2C4io&otracker=CLP_Filters')\n",
    "print(response)"
   ]
  },
  {
   "cell_type": "code",
   "execution_count": null,
   "metadata": {},
   "outputs": [],
   "source": [
    "200 : success\n",
    "    \n",
    "Client side : \n",
    "401 : Unauthorised\n",
    "403 : Permission denied \n",
    "404 Page Not Found\n",
    "\n",
    "Server Side:\n",
    "500 : Internal Server error"
   ]
  },
  {
   "cell_type": "code",
   "execution_count": 42,
   "metadata": {},
   "outputs": [],
   "source": [
    "# print(response.status_code)\n",
    "# print(response.content)\n",
    "# will print the entire content "
   ]
  },
  {
   "cell_type": "markdown",
   "metadata": {},
   "source": [
    "    Top - Bottom \n",
    "    find(\"tag_name\",attrs =  {\"id\":123,\"class\":\"abc\"},text =\"ABC\") : fetch first_occ of that tag in given page\n",
    "    find_all(\"tag_name\") : fetch all the occ of given tag \n",
    "\n",
    "    Bottom  - Top \n",
    "    find_parent('tag_name')\n",
    "    find_parents('tag_name')\n",
    "\n",
    "    Sideways\n",
    "    find_sibling('tag')\n",
    "    find_siblings('tag')"
   ]
  },
  {
   "cell_type": "code",
   "execution_count": 24,
   "metadata": {},
   "outputs": [
    {
     "name": "stdout",
     "output_type": "stream",
     "text": [
      "Realme 5i (Forest Green, 128 GB)\n",
      "₹10,999\n"
     ]
    }
   ],
   "source": [
    "response = requests.get('https://www.flipkart.com/search?sid=tyy%2C4io&otracker=CLP_Filters')\n",
    "soup = BeautifulSoup(response.content , 'html.parser')\n",
    "\n",
    "name = soup.find('div', attrs = {'class':'_3wU53n'})\n",
    "print(name.text)\n",
    "\n",
    "price = soup.find('div', attrs = {'class':'_2rQ-NK'} )\n",
    "print(price.text)"
   ]
  },
  {
   "cell_type": "code",
   "execution_count": 25,
   "metadata": {},
   "outputs": [
    {
     "name": "stdout",
     "output_type": "stream",
     "text": [
      "Realme 5i (Forest Green, 128 GB) ₹10,999 4.4\n"
     ]
    }
   ],
   "source": [
    "name = soup.find('div', attrs = {'class':'_3wU53n'})\n",
    "price = soup.find('div', attrs = {'class':'_2rQ-NK'} )\n",
    "rating = soup.find('div', attrs = {'class':'hGSR34'})\n",
    "\n",
    "print('{} {} {}'.format(name.text, price.text, rating.text))"
   ]
  },
  {
   "cell_type": "code",
   "execution_count": 26,
   "metadata": {},
   "outputs": [
    {
     "name": "stdout",
     "output_type": "stream",
     "text": [
      "Realme 5i (Forest Green, 128 GB)\n",
      "Realme C3 (Blazing Red, 32 GB)\n",
      "Realme C3 (Frozen Blue, 32 GB)\n",
      "Realme 6 (Comet Blue, 64 GB)\n",
      "Realme 5i (Aqua Blue, 128 GB)\n",
      "Realme 5i (Forest Green, 64 GB)\n",
      "Realme 5i (Aqua Blue, 64 GB)\n",
      "Realme 5s (Crystal Blue, 64 GB)\n",
      "Realme 6 (Comet White, 64 GB)\n",
      "Realme C2 (Diamond Black, 32 GB)\n",
      "Realme C2 (Diamond Black, 32 GB)\n",
      "Realme C2 (Diamond Blue, 32 GB)\n",
      "Realme 5s (Crystal Blue, 128 GB)\n",
      "Realme 5s (Crystal Purple, 64 GB)\n",
      "Vivo U10 (Electric Blue, 32 GB)\n",
      "Apple iPhone 7 (Black, 32 GB)\n",
      "Realme C3 (Frozen Blue, 64 GB)\n",
      "Realme 6 Pro (Lightning Blue, 64 GB)\n",
      "Realme C2 (Diamond Ruby, 32 GB)\n",
      "POCO X2 (Matrix Purple, 128 GB)\n",
      "Realme 6 Pro (Lightning Blue, 128 GB)\n",
      "Realme 6 Pro (Lightning Blue, 128 GB)\n",
      "Realme 5 (Crystal Blue, 64 GB)\n",
      "Realme 5 (Crystal Purple, 32 GB)\n"
     ]
    }
   ],
   "source": [
    "phones = soup.find_all('div', attrs = {'class':'_3wU53n'})\n",
    "\n",
    "for phone in phones:\n",
    "    print(phone.text)"
   ]
  },
  {
   "cell_type": "code",
   "execution_count": 29,
   "metadata": {},
   "outputs": [
    {
     "name": "stdout",
     "output_type": "stream",
     "text": [
      "Realme 5i (Forest Green, 128 GB) ₹10,999 4.4\n",
      "Realme 5i (Forest Green, 128 GB) ₹10,999 4.4\n",
      "Realme 5i (Forest Green, 128 GB) ₹10,999 4.4\n",
      "Realme 5i (Forest Green, 128 GB) ₹10,999 4.4\n",
      "Realme 5i (Forest Green, 128 GB) ₹10,999 4.4\n",
      "Realme 5i (Forest Green, 128 GB) ₹10,999 4.4\n",
      "Realme 5i (Forest Green, 128 GB) ₹10,999 4.4\n",
      "Realme 5i (Forest Green, 128 GB) ₹10,999 4.4\n",
      "Realme 5i (Forest Green, 128 GB) ₹10,999 4.4\n",
      "Realme 5i (Forest Green, 128 GB) ₹10,999 4.4\n",
      "Realme 5i (Forest Green, 128 GB) ₹10,999 4.4\n",
      "Realme 5i (Forest Green, 128 GB) ₹10,999 4.4\n",
      "Realme 5i (Forest Green, 128 GB) ₹10,999 4.4\n",
      "Realme 5i (Forest Green, 128 GB) ₹10,999 4.4\n",
      "Realme 5i (Forest Green, 128 GB) ₹10,999 4.4\n",
      "Realme 5i (Forest Green, 128 GB) ₹10,999 4.4\n",
      "Realme 5i (Forest Green, 128 GB) ₹10,999 4.4\n",
      "Realme 5i (Forest Green, 128 GB) ₹10,999 4.4\n",
      "Realme 5i (Forest Green, 128 GB) ₹10,999 4.4\n",
      "Realme 5i (Forest Green, 128 GB) ₹10,999 4.4\n",
      "Realme 5i (Forest Green, 128 GB) ₹10,999 4.4\n",
      "Realme 5i (Forest Green, 128 GB) ₹10,999 4.4\n",
      "Realme 5i (Forest Green, 128 GB) ₹10,999 4.4\n",
      "Realme 5i (Forest Green, 128 GB) ₹10,999 4.4\n"
     ]
    }
   ],
   "source": [
    "# top to bottom\n",
    "\n",
    "cards = soup.find_all('div', attrs = {'class':'_1UoZlX'})\n",
    "\n",
    "for card in cards:\n",
    "    name = soup.find('div', attrs = {'class':'_3wU53n'})\n",
    "    price = soup.find('div', attrs = {'class':'_2rQ-NK'} )\n",
    "    rating = soup.find('div', attrs = {'class':'hGSR34'})\n",
    "    print('{} {} {}'.format(name.text, price.text, rating.text))"
   ]
  },
  {
   "cell_type": "code",
   "execution_count": 31,
   "metadata": {},
   "outputs": [
    {
     "name": "stdout",
     "output_type": "stream",
     "text": [
      "/search?sid=tyy%2C4io&otracker=CLP_Filters&page=2\n"
     ]
    }
   ],
   "source": [
    "# for page two\n",
    "link = soup.find('a', text = 'Next').get('href')\n",
    "print(link)"
   ]
  },
  {
   "cell_type": "code",
   "execution_count": 40,
   "metadata": {
    "scrolled": true
   },
   "outputs": [
    {
     "name": "stdout",
     "output_type": "stream",
     "text": [
      "Realme 5 Pro (Crystal Green, 64 GB) ₹13,999 4.5\n",
      "Realme 5 Pro (Crystal Green, 64 GB) ₹13,999 4.5\n",
      "Realme 5 Pro (Crystal Green, 64 GB) ₹13,999 4.5\n",
      "Realme 5 Pro (Crystal Green, 64 GB) ₹13,999 4.5\n",
      "Realme 5 Pro (Crystal Green, 64 GB) ₹13,999 4.5\n",
      "Realme 5 Pro (Crystal Green, 64 GB) ₹13,999 4.5\n",
      "Realme 5 Pro (Crystal Green, 64 GB) ₹13,999 4.5\n",
      "Realme 5 Pro (Crystal Green, 64 GB) ₹13,999 4.5\n",
      "Realme 5 Pro (Crystal Green, 64 GB) ₹13,999 4.5\n",
      "Realme 5 Pro (Crystal Green, 64 GB) ₹13,999 4.5\n",
      "Realme 5 Pro (Crystal Green, 64 GB) ₹13,999 4.5\n",
      "Realme 5 Pro (Crystal Green, 64 GB) ₹13,999 4.5\n",
      "Realme 5 Pro (Crystal Green, 64 GB) ₹13,999 4.5\n",
      "Realme 5 Pro (Crystal Green, 64 GB) ₹13,999 4.5\n",
      "Realme 5 Pro (Crystal Green, 64 GB) ₹13,999 4.5\n",
      "Realme 5 Pro (Crystal Green, 64 GB) ₹13,999 4.5\n",
      "Realme 5 Pro (Crystal Green, 64 GB) ₹13,999 4.5\n",
      "Realme 5 Pro (Crystal Green, 64 GB) ₹13,999 4.5\n",
      "Realme 5 Pro (Crystal Green, 64 GB) ₹13,999 4.5\n",
      "Realme 5 Pro (Crystal Green, 64 GB) ₹13,999 4.5\n",
      "Realme 5 Pro (Crystal Green, 64 GB) ₹13,999 4.5\n",
      "Realme 5 Pro (Crystal Green, 64 GB) ₹13,999 4.5\n",
      "Realme 5 Pro (Crystal Green, 64 GB) ₹13,999 4.5\n",
      "Realme 5 Pro (Crystal Green, 64 GB) ₹13,999 4.5\n"
     ]
    }
   ],
   "source": [
    "link = soup.find('a', text = 'Next').get('href')\n",
    "homepage_link = 'https://www.flipkart.com'\n",
    "\n",
    "next_page_link = homepage_link + link\n",
    "# print(next_page_link)\n",
    "\n",
    "response2 = requests.get(next_page_link)\n",
    "soup2 = BeautifulSoup(response2.content , 'html.parser')\n",
    "\n",
    "\n",
    "\n",
    "cards = soup.find_all('div', attrs = {'class':'_1UoZlX'})\n",
    "\n",
    "for card in cards:\n",
    "    name = soup2.find('div', attrs = {'class':'_3wU53n'})\n",
    "    price = soup2.find('div', attrs = {'class':'_2rQ-NK'} )\n",
    "    rating = soup2.find('div', attrs = {'class':'hGSR34'})\n",
    "    print('{} {} {}'.format(name.text, price.text, rating.text))\n",
    "    "
   ]
  }
 ],
 "metadata": {
  "kernelspec": {
   "display_name": "Python 3",
   "language": "python",
   "name": "python3"
  },
  "language_info": {
   "codemirror_mode": {
    "name": "ipython",
    "version": 3
   },
   "file_extension": ".py",
   "mimetype": "text/x-python",
   "name": "python",
   "nbconvert_exporter": "python",
   "pygments_lexer": "ipython3",
   "version": "3.7.6"
  }
 },
 "nbformat": 4,
 "nbformat_minor": 4
}
