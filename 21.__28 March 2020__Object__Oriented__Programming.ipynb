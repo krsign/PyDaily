{
 "cells": [
  {
   "cell_type": "markdown",
   "metadata": {},
   "source": [
    "# Create Simple Class"
   ]
  },
  {
   "cell_type": "code",
   "execution_count": 20,
   "metadata": {},
   "outputs": [],
   "source": [
    "class Python:\n",
    "    pass"
   ]
  },
  {
   "cell_type": "code",
   "execution_count": 22,
   "metadata": {},
   "outputs": [
    {
     "name": "stdout",
     "output_type": "stream",
     "text": [
      "Name :  Python Verison :  3.7\n",
      "<class '__main__.Python'>\n"
     ]
    }
   ],
   "source": [
    "class Python:\n",
    "    name = 'Python'\n",
    "    version = 3.7\n",
    "    \n",
    "p = Python()\n",
    "print('Name : ', p.name, 'Verison : ', p.version)\n",
    "print(type(p))"
   ]
  },
  {
   "cell_type": "markdown",
   "metadata": {},
   "source": [
    "# Initializing Object"
   ]
  },
  {
   "cell_type": "code",
   "execution_count": 25,
   "metadata": {},
   "outputs": [
    {
     "name": "stdout",
     "output_type": "stream",
     "text": [
      "krsign 22\n"
     ]
    }
   ],
   "source": [
    "class Student:\n",
    "    def __init__(self, name, age):\n",
    "        self.name = name\n",
    "        self.age = age\n",
    "stud1 = Student('krsign', 22)\n",
    "print(stud1.name, stud1.age)"
   ]
  },
  {
   "cell_type": "markdown",
   "metadata": {},
   "source": [
    "# Object Method"
   ]
  },
  {
   "cell_type": "code",
   "execution_count": 26,
   "metadata": {},
   "outputs": [
    {
     "name": "stdout",
     "output_type": "stream",
     "text": [
      "('krsign', 22)\n"
     ]
    }
   ],
   "source": [
    "class Student:\n",
    "    def __init__(self, name, age):\n",
    "        self.name = name\n",
    "        self.age = age\n",
    "        \n",
    "    def get_detail(self):\n",
    "        return self.name, self.age\n",
    "    \n",
    "stud2 = Student('krsign', 22)\n",
    "print(stud2.get_detail())"
   ]
  },
  {
   "cell_type": "markdown",
   "metadata": {},
   "source": [
    "# Self \n",
    "    -  self is not required, it is just convention or tradition which is used by programmer"
   ]
  },
  {
   "cell_type": "code",
   "execution_count": 27,
   "metadata": {},
   "outputs": [
    {
     "name": "stdout",
     "output_type": "stream",
     "text": [
      "('krsign', 22)\n"
     ]
    }
   ],
   "source": [
    "class Student:\n",
    "    def __init__(anything, name, age):\n",
    "        anything.name = name\n",
    "        anything.age = age\n",
    "        \n",
    "    def get_detail(anything):\n",
    "        return anything.name, anything.age\n",
    "    \n",
    "stud2 = Student('krsign', 22)\n",
    "print(stud2.get_detail())"
   ]
  },
  {
   "cell_type": "markdown",
   "metadata": {},
   "source": [
    "# Deleting Object"
   ]
  },
  {
   "cell_type": "code",
   "execution_count": 33,
   "metadata": {},
   "outputs": [
    {
     "name": "stdout",
     "output_type": "stream",
     "text": [
      "('krsign', 22)\n",
      "('github', 12)\n"
     ]
    },
    {
     "ename": "NameError",
     "evalue": "name 'stud2' is not defined",
     "output_type": "error",
     "traceback": [
      "\u001b[0;31m---------------------------------------------------------------------------\u001b[0m",
      "\u001b[0;31mNameError\u001b[0m                                 Traceback (most recent call last)",
      "\u001b[0;32m<ipython-input-33-661058f4cfca>\u001b[0m in \u001b[0;36m<module>\u001b[0;34m\u001b[0m\n\u001b[1;32m     14\u001b[0m \u001b[0;31m# deleting second object\u001b[0m\u001b[0;34m\u001b[0m\u001b[0;34m\u001b[0m\u001b[0;34m\u001b[0m\u001b[0m\n\u001b[1;32m     15\u001b[0m \u001b[0;32mdel\u001b[0m \u001b[0mstud2\u001b[0m\u001b[0;34m\u001b[0m\u001b[0;34m\u001b[0m\u001b[0m\n\u001b[0;32m---> 16\u001b[0;31m \u001b[0mprint\u001b[0m\u001b[0;34m(\u001b[0m\u001b[0mstud2\u001b[0m\u001b[0;34m.\u001b[0m\u001b[0mget_detail\u001b[0m\u001b[0;34m(\u001b[0m\u001b[0;34m)\u001b[0m\u001b[0;34m)\u001b[0m\u001b[0;34m\u001b[0m\u001b[0;34m\u001b[0m\u001b[0m\n\u001b[0m",
      "\u001b[0;31mNameError\u001b[0m: name 'stud2' is not defined"
     ]
    }
   ],
   "source": [
    "class Student:\n",
    "    def __init__(self, name, age):\n",
    "        self.name = name\n",
    "        self.age = age\n",
    "        \n",
    "    def get_detail(self):\n",
    "        return self.name, self.age\n",
    "    \n",
    "stud1 = Student('krsign', 22)\n",
    "stud2 = Student('github', 12)\n",
    "print(stud1.get_detail())\n",
    "print(stud2.get_detail())\n",
    "\n",
    "# deleting second object\n",
    "del stud2\n",
    "print(stud2.get_detail())"
   ]
  },
  {
   "cell_type": "markdown",
   "metadata": {},
   "source": [
    "# Aggregation and Composition\n",
    "    - Agrregation is a weak form of composition"
   ]
  },
  {
   "cell_type": "code",
   "execution_count": 1,
   "metadata": {},
   "outputs": [],
   "source": [
    "class Salary:\n",
    "    def __init__(self, pay):\n",
    "        self.pay = pay\n",
    "        \n",
    "    def get_total(self):\n",
    "        return (self.pay * 12)\n",
    "    \n",
    "class Employee:\n",
    "    def __init__(self, pay, bonus):\n",
    "        self.pay = pay\n",
    "        self.bonus = bonus\n",
    "    \n",
    "    def annual_salary(self):\n",
    "        return 'Total : ' + str(self.pay.get_total() + self.bonus)        "
   ]
  },
  {
   "cell_type": "code",
   "execution_count": 7,
   "metadata": {},
   "outputs": [
    {
     "name": "stdout",
     "output_type": "stream",
     "text": [
      "Total : 8900\n"
     ]
    }
   ],
   "source": [
    "obj_sal = Salary(700)\n",
    "\n",
    "obj_emp = Employee(obj_sal, 500)\n",
    "\n",
    "print(obj_emp.annual_salary())"
   ]
  },
  {
   "cell_type": "code",
   "execution_count": 16,
   "metadata": {},
   "outputs": [],
   "source": [
    "# Second Examples:\n",
    "class Friend:\n",
    "    def __init__(self,name):\n",
    "        self.name = name\n",
    "    def get_name(self):\n",
    "        return self.name\n",
    "\n",
    "class FullName:\n",
    "    def __init__(self, name, surname):\n",
    "        self.name = name\n",
    "        self.surname = surname\n",
    "    def friend_full_name(self):\n",
    "        return 'Name : ' + str(self.name.get_name() +  ' ' +  self.surname)"
   ]
  },
  {
   "cell_type": "code",
   "execution_count": 19,
   "metadata": {},
   "outputs": [
    {
     "name": "stdout",
     "output_type": "stream",
     "text": [
      "Name : Krishna Kumar\n"
     ]
    }
   ],
   "source": [
    "obj_friend = Friend('Krishna')\n",
    "\n",
    "obj_Full_Name = FullName(obj_friend, 'Kumar')\n",
    "\n",
    "print(obj_Full_Name.friend_full_name())"
   ]
  },
  {
   "cell_type": "markdown",
   "metadata": {},
   "source": [
    "# Inheritance\n",
    "    - where existing class can be used by other class for coding reusibility"
   ]
  },
  {
   "cell_type": "code",
   "execution_count": 3,
   "metadata": {},
   "outputs": [
    {
     "name": "stdout",
     "output_type": "stream",
     "text": [
      "Thanos\n",
      "None\n",
      "Gamora\n",
      "None\n"
     ]
    }
   ],
   "source": [
    "class Parent:\n",
    "    parent_name = ''\n",
    "    child_name = ''\n",
    "    \n",
    "    def show_parent_name(self):\n",
    "        print(self.parent_name)\n",
    "    \n",
    "class Child(Parent):\n",
    "    def show_child_name(self):\n",
    "        print(self.child_name)\n",
    "\n",
    "ch = Child()\n",
    "ch.parent_name = 'Thanos'\n",
    "ch.child_name = 'Gamora'\n",
    "print(ch.show_parent_name())\n",
    "print(ch.show_child_name())"
   ]
  }
 ],
 "metadata": {
  "kernelspec": {
   "display_name": "Python 3",
   "language": "python",
   "name": "python3"
  },
  "language_info": {
   "codemirror_mode": {
    "name": "ipython",
    "version": 3
   },
   "file_extension": ".py",
   "mimetype": "text/x-python",
   "name": "python",
   "nbconvert_exporter": "python",
   "pygments_lexer": "ipython3",
   "version": "3.7.6"
  }
 },
 "nbformat": 4,
 "nbformat_minor": 4
}
