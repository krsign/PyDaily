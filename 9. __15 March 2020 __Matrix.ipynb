{
 "cells": [
  {
   "cell_type": "code",
   "execution_count": null,
   "metadata": {},
   "outputs": [],
   "source": [
    "Matrix : \n",
    "    - 2D data structure\n",
    "    - keep the data in sequential or tabular format\n",
    "    - in python tables are termed as two - dimensional or say matrices\n",
    "    "
   ]
  },
  {
   "cell_type": "code",
   "execution_count": 13,
   "metadata": {},
   "outputs": [],
   "source": [
    "# matrix(nested list)\n",
    "\n",
    "matrix = [[1,2,3],\n",
    "          [4,5,6],\n",
    "          [7,8,9]]"
   ]
  },
  {
   "cell_type": "code",
   "execution_count": 12,
   "metadata": {},
   "outputs": [
    {
     "name": "stdout",
     "output_type": "stream",
     "text": [
      "[[0, 0, 0], [0, 0, 0], [0, 0, 0]]\n"
     ]
    }
   ],
   "source": [
    "# Dynamically create matrices in Py3\n",
    "n = 3   #row\n",
    "m = 3   #column\n",
    "\n",
    "v = [0] * n\n",
    "\n",
    "for x in range(n):\n",
    "    v[x] = [0] * m\n",
    "print(v)"
   ]
  },
  {
   "cell_type": "code",
   "execution_count": 15,
   "metadata": {},
   "outputs": [
    {
     "name": "stdout",
     "output_type": "stream",
     "text": [
      "5\n",
      "6\n"
     ]
    }
   ],
   "source": [
    "# Accessing Elements of Matrices\n",
    "\n",
    "matrix = [[1,2,3],\n",
    "          [4,5,6],\n",
    "          [7,8,9]]\n",
    "\n",
    "print(matrix[1][1])\n",
    "\n",
    "# negative indexing\n",
    "\n",
    "print(matrix[-2][-1])"
   ]
  },
  {
   "cell_type": "markdown",
   "metadata": {},
   "source": [
    "# matrix using list comprehension"
   ]
  },
  {
   "cell_type": "code",
   "execution_count": 21,
   "metadata": {},
   "outputs": [
    {
     "name": "stdout",
     "output_type": "stream",
     "text": [
      "[[0, 1, 2, 3, 4], [0, 1, 2, 3, 4], [0, 1, 2, 3, 4], [0, 1, 2, 3, 4], [0, 1, 2, 3, 4]]\n"
     ]
    }
   ],
   "source": [
    "# using for-loop and append method\n",
    "\n",
    "matrix = []\n",
    "\n",
    "for i in range(5):\n",
    "    # append empty list inside list\n",
    "    matrix.append([])\n",
    "    \n",
    "    # put values in an empty list\n",
    "    for j in range(5):\n",
    "        matrix[i].append(j)\n",
    "        \n",
    "print(matrix)"
   ]
  },
  {
   "cell_type": "code",
   "execution_count": 24,
   "metadata": {},
   "outputs": [
    {
     "name": "stdout",
     "output_type": "stream",
     "text": [
      "[[0, 1, 2, 3, 4], [0, 1, 2, 3, 4], [0, 1, 2, 3, 4], [0, 1, 2, 3, 4], [0, 1, 2, 3, 4]]\n"
     ]
    }
   ],
   "source": [
    "matrix = [[j for j in range(5)] for i in range(5)]\n",
    "print(matrix)"
   ]
  },
  {
   "cell_type": "markdown",
   "metadata": {},
   "source": [
    "# matrix addition"
   ]
  },
  {
   "cell_type": "code",
   "execution_count": 49,
   "metadata": {},
   "outputs": [
    {
     "name": "stdout",
     "output_type": "stream",
     "text": [
      "[10, 10, 10]\n",
      "[10, 10, 10]\n",
      "[10, 10, 10]\n"
     ]
    }
   ],
   "source": [
    "# Add Two Matrices\n",
    "x = [[1,2,3],\n",
    "     [4,5,6],\n",
    "     [7,8,9]]\n",
    "\n",
    "y = [[9,8,7],\n",
    "     [6,5,4],\n",
    "     [3,2,1]]\n",
    "\n",
    "#using for nested loop\n",
    "\n",
    "result = [[0,0,0],\n",
    "          [0,0,0],\n",
    "          [0,0,0]]\n",
    "\n",
    "for i in range(len(x)):\n",
    "    for j in range(len(x[0])):\n",
    "        result[i][j] = x[i][j] + y[i][j]\n",
    "\n",
    "for r in result:\n",
    "    print(r)"
   ]
  },
  {
   "cell_type": "code",
   "execution_count": 51,
   "metadata": {},
   "outputs": [
    {
     "name": "stdout",
     "output_type": "stream",
     "text": [
      "[10, 10, 10]\n",
      "[10, 10, 10]\n",
      "[10, 10, 10]\n"
     ]
    }
   ],
   "source": [
    "# using list comprehension\n",
    "\n",
    "x = [[1,2,3],\n",
    "     [4,5,6],\n",
    "     [7,8,9]]\n",
    "\n",
    "y = [[9,8,7],\n",
    "     [6,5,4],\n",
    "     [3,2,1]]\n",
    "\n",
    "result = [[x[i][j] + y[i][j] for j in range(len(x[0]))] for i in range(len(x))]\n",
    "for r in result:\n",
    "    print(r)"
   ]
  },
  {
   "cell_type": "code",
   "execution_count": 4,
   "metadata": {},
   "outputs": [],
   "source": [
    "# using zip and sum\n",
    "# x = [[1,2,3],\n",
    "#      [4,5,6],\n",
    "#      [7,8,9]]\n",
    "\n",
    "# y = [[9,8,7],\n",
    "#      [6,5,4],\n",
    "#      [3,2,1]]\n",
    "\n",
    "# result = [map(sum, zip(*i)) for i in zip(x, y)]\n",
    "\n",
    "# print(result)\n",
    "\n",
    "# work on hold for now"
   ]
  },
  {
   "cell_type": "markdown",
   "metadata": {},
   "source": [
    "# matrix multiplication"
   ]
  },
  {
   "cell_type": "code",
   "execution_count": 5,
   "metadata": {},
   "outputs": [
    {
     "name": "stdout",
     "output_type": "stream",
     "text": [
      "[8, 9, 8]\n",
      "[35, 36, 35]\n",
      "[80, 81, 80]\n"
     ]
    }
   ],
   "source": [
    "# using nested list for 3 X 3 \n",
    "x = [[2,3,4],\n",
    "     [5,6,7],\n",
    "     [8,9,10]]\n",
    "\n",
    "y = [[4,3,2],\n",
    "     [7,6,5],\n",
    "     [10,9,8]]\n",
    "\n",
    "result = [[0,0,0],\n",
    "          [0,0,0],\n",
    "          [0,0,0]]\n",
    "for i in range(len(x)):\n",
    "    for j in range(len(x[0])):\n",
    "        result[i][j] = x[i][j] * y[i][j]\n",
    "for r in result:\n",
    "    print(r)"
   ]
  },
  {
   "cell_type": "code",
   "execution_count": 7,
   "metadata": {},
   "outputs": [
    {
     "name": "stdout",
     "output_type": "stream",
     "text": [
      "[114, 160, 60, 27]\n",
      "[74, 97, 73, 14]\n",
      "[119, 157, 112, 23]\n"
     ]
    }
   ],
   "source": [
    "# using nested list for 3X4\n",
    "\n",
    "x = [[12, 7, 3], \n",
    "     [4, 5, 6], \n",
    "     [7, 8, 9]] \n",
    "\n",
    "y = [[5, 8, 1, 2], \n",
    "     [6, 7, 3, 0], \n",
    "     [4, 5, 9, 1]] \n",
    "\n",
    "result = [[0, 0, 0, 0], \n",
    "          [0, 0, 0, 0], \n",
    "          [0, 0, 0, 0]] \n",
    "\n",
    "for i in range(len(x)):\n",
    "    for j in range(len(y[0])):\n",
    "        for k in range(len(y)):\n",
    "            result[i][j] += x[i][k] * y[k][j]\n",
    "            \n",
    "for r in result:\n",
    "    print(r)"
   ]
  },
  {
   "cell_type": "code",
   "execution_count": 14,
   "metadata": {},
   "outputs": [
    {
     "name": "stdout",
     "output_type": "stream",
     "text": [
      "[114, 160, 60, 27]\n",
      "[74, 97, 73, 14]\n",
      "[119, 157, 112, 23]\n"
     ]
    }
   ],
   "source": [
    "# using zip\n",
    "\n",
    "x = [[12, 7, 3], \n",
    "     [4, 5, 6], \n",
    "     [7, 8, 9]] \n",
    "\n",
    "y = [[5, 8, 1, 2], \n",
    "     [6, 7, 3, 0], \n",
    "     [4, 5, 9, 1]] \n",
    "\n",
    "result = [[sum(a * b for a, b in zip(row, col)) for col in zip(*y)]for row in x] \n",
    "\n",
    "for r in result:\n",
    "    print(r)\n",
    "    \n",
    "# ?????"
   ]
  }
 ],
 "metadata": {
  "kernelspec": {
   "display_name": "Python 3",
   "language": "python",
   "name": "python3"
  },
  "language_info": {
   "codemirror_mode": {
    "name": "ipython",
    "version": 3
   },
   "file_extension": ".py",
   "mimetype": "text/x-python",
   "name": "python",
   "nbconvert_exporter": "python",
   "pygments_lexer": "ipython3",
   "version": "3.7.4"
  }
 },
 "nbformat": 4,
 "nbformat_minor": 2
}
