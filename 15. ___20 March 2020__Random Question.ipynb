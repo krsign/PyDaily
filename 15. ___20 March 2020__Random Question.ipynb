{
 "cells": [
  {
   "cell_type": "markdown",
   "metadata": {},
   "source": [
    "# 1. \n",
    "Write a Python program to create a set. "
   ]
  },
  {
   "cell_type": "code",
   "execution_count": 2,
   "metadata": {},
   "outputs": [
    {
     "data": {
      "text/plain": [
       "set"
      ]
     },
     "execution_count": 2,
     "metadata": {},
     "output_type": "execute_result"
    }
   ],
   "source": [
    "# construct the variable with set\n",
    "s = set()\n",
    "type(s)"
   ]
  },
  {
   "cell_type": "markdown",
   "metadata": {},
   "source": [
    "# 2. \n",
    "Write a Python program to iteration over sets. "
   ]
  },
  {
   "cell_type": "code",
   "execution_count": 8,
   "metadata": {},
   "outputs": [
    {
     "name": "stdout",
     "output_type": "stream",
     "text": [
      "2 3 4 5 6 7 "
     ]
    }
   ],
   "source": [
    "s = {2,3,4,5,6,7}\n",
    "for i in s:\n",
    "    print(i,end = ' ')"
   ]
  },
  {
   "cell_type": "markdown",
   "metadata": {},
   "source": [
    "# 3. \n",
    "Write a Python program to add member(s) in a set. "
   ]
  },
  {
   "cell_type": "code",
   "execution_count": 14,
   "metadata": {},
   "outputs": [
    {
     "name": "stdout",
     "output_type": "stream",
     "text": [
      "{'Williams', 'Redbull', 'Austin Martin'}\n"
     ]
    }
   ],
   "source": [
    "f1 = set()\n",
    "\n",
    "# using add function\n",
    "f1.add('Redbull')\n",
    "\n",
    "#using update function\n",
    "f1.update(['Williams','Austin Martin'])\n",
    "print(f1)"
   ]
  },
  {
   "cell_type": "markdown",
   "metadata": {},
   "source": [
    "# 4. \n",
    "Write a Python program to remove item(s) from set"
   ]
  },
  {
   "cell_type": "code",
   "execution_count": 25,
   "metadata": {},
   "outputs": [
    {
     "name": "stdout",
     "output_type": "stream",
     "text": [
      "Before Poping :  {'Redbull', 'Renault', 'Mercedes'}\n",
      "After Poping  :  {'Renault', 'Mercedes'}\n"
     ]
    }
   ],
   "source": [
    "f1 = {'Redbull','Renault','Mercedes'}\n",
    "print('Before Poping : ',f1)\n",
    "\n",
    "f1.pop()\n",
    "print('After Poping  : ',f1)"
   ]
  },
  {
   "cell_type": "markdown",
   "metadata": {},
   "source": [
    "# 5. \n",
    "Write a Python program to remove an item from a set if it is present in the set."
   ]
  },
  {
   "cell_type": "code",
   "execution_count": 28,
   "metadata": {},
   "outputs": [
    {
     "name": "stdout",
     "output_type": "stream",
     "text": [
      "Before Removing :  {'William', 'Austin Martin', 'Renault', 'Mercedes'}\n",
      "After Removing  :  {'Austin Martin', 'Renault', 'Mercedes'}\n"
     ]
    }
   ],
   "source": [
    "f1 = {'Renault','Austin Martin','Mercedes','William'}\n",
    "print('Before Removing : ',f1)\n",
    "\n",
    "f1.remove('William')\n",
    "print('After Removing  : ',f1)"
   ]
  },
  {
   "cell_type": "markdown",
   "metadata": {},
   "source": [
    "# 6. \n",
    "Write a Python program to create an intersection of sets."
   ]
  },
  {
   "cell_type": "code",
   "execution_count": 32,
   "metadata": {},
   "outputs": [
    {
     "name": "stdout",
     "output_type": "stream",
     "text": [
      "Intersection :  {50, 60}\n"
     ]
    }
   ],
   "source": [
    "s1 = {10,20,30,40,50,60}\n",
    "s2 = {50,60,70,80,90,100}\n",
    "\n",
    "print('Intersection : ',s1.intersection(s2))"
   ]
  },
  {
   "cell_type": "markdown",
   "metadata": {},
   "source": [
    "# 7. \n",
    "Write a Python program to create a symmetric difference."
   ]
  },
  {
   "cell_type": "code",
   "execution_count": 33,
   "metadata": {},
   "outputs": [
    {
     "name": "stdout",
     "output_type": "stream",
     "text": [
      "Symetric Difference :  {70, 10, 80, 20, 90, 30, 100, 40}\n"
     ]
    }
   ],
   "source": [
    "s1 = {10,20,30,40,50,60}\n",
    "s2 = {50,60,70,80,90,100}\n",
    "\n",
    "print('Symetric Difference : ',s1.symmetric_difference(s2))"
   ]
  },
  {
   "cell_type": "markdown",
   "metadata": {},
   "source": [
    "# 8. \n",
    "Write a Python program to issubset and issuperset.\n"
   ]
  },
  {
   "cell_type": "code",
   "execution_count": 42,
   "metadata": {},
   "outputs": [],
   "source": [
    "s1 = set(['apple','blackberry','code','Django','Eclips','Flutter','Go'])\n",
    "s2 = set(['code','Eclips','Go Lang'])\n",
    "s3 = set(['blackberry','Flutter','apple'])\n",
    "\n",
    "# DO SOMEOTHERTIME"
   ]
  },
  {
   "cell_type": "code",
   "execution_count": null,
   "metadata": {},
   "outputs": [],
   "source": []
  }
 ],
 "metadata": {
  "kernelspec": {
   "display_name": "Python 3",
   "language": "python",
   "name": "python3"
  },
  "language_info": {
   "codemirror_mode": {
    "name": "ipython",
    "version": 3
   },
   "file_extension": ".py",
   "mimetype": "text/x-python",
   "name": "python",
   "nbconvert_exporter": "python",
   "pygments_lexer": "ipython3",
   "version": "3.7.6"
  }
 },
 "nbformat": 4,
 "nbformat_minor": 2
}
