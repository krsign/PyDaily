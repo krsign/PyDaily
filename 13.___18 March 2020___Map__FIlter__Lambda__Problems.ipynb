{
 "cells": [
  {
   "cell_type": "code",
   "execution_count": null,
   "metadata": {},
   "outputs": [],
   "source": [
    "lambda arguments : expression"
   ]
  },
  {
   "cell_type": "code",
   "execution_count": 1,
   "metadata": {},
   "outputs": [
    {
     "name": "stdout",
     "output_type": "stream",
     "text": [
      "5\n"
     ]
    },
    {
     "data": {
      "text/plain": [
       "function"
      ]
     },
     "execution_count": 1,
     "metadata": {},
     "output_type": "execute_result"
    }
   ],
   "source": [
    "add = lambda x, y : x + y\n",
    "print(add(2,3))\n",
    "\n",
    "\n",
    "#type of add function\n",
    "\n",
    "type(add)"
   ]
  },
  {
   "cell_type": "code",
   "execution_count": null,
   "metadata": {},
   "outputs": [],
   "source": [
    "m = map(function, iterables)"
   ]
  },
  {
   "cell_type": "code",
   "execution_count": 6,
   "metadata": {},
   "outputs": [
    {
     "name": "stdout",
     "output_type": "stream",
     "text": [
      "[2, 4, 6, 8, 10]\n"
     ]
    }
   ],
   "source": [
    "def multi(x):\n",
    "    return x * 2\n",
    "\n",
    "m = map(multi,range(1,6))\n",
    "\n",
    "print(list(m))"
   ]
  },
  {
   "cell_type": "code",
   "execution_count": 8,
   "metadata": {},
   "outputs": [
    {
     "name": "stdout",
     "output_type": "stream",
     "text": [
      "[2, 4, 6, 8, 10]\n"
     ]
    }
   ],
   "source": [
    "# just using Map and Lambda\n",
    "\n",
    "m = map(lambda x : x * 2,range(1,6))\n",
    "print(list(m))"
   ]
  },
  {
   "cell_type": "code",
   "execution_count": 10,
   "metadata": {},
   "outputs": [
    {
     "name": "stdout",
     "output_type": "stream",
     "text": [
      "['python', 'RLang']\n",
      "[10, 20]\n"
     ]
    }
   ],
   "source": [
    "# Iterating over Dict using Map and Lambda\n",
    "dic = [{'name':'python','points':10},{'name':'RLang','points':20}]\n",
    "\n",
    "m1 = map(lambda x : x['name'],dic)\n",
    "print(list(m1))\n",
    "\n",
    "m2 = map(lambda x : x['points'],dic)\n",
    "print(list(m2))"
   ]
  },
  {
   "cell_type": "code",
   "execution_count": 14,
   "metadata": {},
   "outputs": [
    {
     "name": "stdout",
     "output_type": "stream",
     "text": [
      "[11, 22, 33]\n"
     ]
    }
   ],
   "source": [
    "# multiple iterables to the map functions\n",
    "\n",
    "m = map(lambda x,y : x + y,range(1,4),range(10,31,10))\n",
    "print(list(m))"
   ]
  },
  {
   "cell_type": "code",
   "execution_count": null,
   "metadata": {},
   "outputs": [],
   "source": [
    "f = filter(function, iterable)"
   ]
  },
  {
   "cell_type": "code",
   "execution_count": 15,
   "metadata": {},
   "outputs": [
    {
     "name": "stdout",
     "output_type": "stream",
     "text": [
      "[2, 4, 6, 8, 10, 12, 14, 16, 18, 20]\n"
     ]
    }
   ],
   "source": [
    "f = filter(lambda x : x % 2 == 0, range(1,21))\n",
    "print(list(f))"
   ]
  },
  {
   "cell_type": "markdown",
   "metadata": {},
   "source": [
    "## Problems on Lambda, Map and Filter"
   ]
  },
  {
   "cell_type": "markdown",
   "metadata": {},
   "source": [
    "# 1. \n",
    "\n",
    "Write a Python program to create a lambda function that adds 15 to a given number passed in as an argument, \n",
    "also create a lambda function that multiplies argument x with argument y and print the result."
   ]
  },
  {
   "cell_type": "code",
   "execution_count": 25,
   "metadata": {},
   "outputs": [
    {
     "name": "stdout",
     "output_type": "stream",
     "text": [
      "[20, 30, 40]\n"
     ]
    }
   ],
   "source": [
    "# lambda function that adds 15 to a given number\n",
    "\n",
    "m = map(lambda n : n + 15, range(5,31,10))\n",
    "print(list(m))"
   ]
  },
  {
   "cell_type": "code",
   "execution_count": 26,
   "metadata": {},
   "outputs": [
    {
     "name": "stdout",
     "output_type": "stream",
     "text": [
      "[120, 255, 420, 650]\n"
     ]
    }
   ],
   "source": [
    "# arguments\n",
    "\n",
    "m = map(lambda x,y : x * y, [10,15,20,25],[12,17,21,26])\n",
    "print(list(m))"
   ]
  },
  {
   "cell_type": "markdown",
   "metadata": {},
   "source": [
    "# 2. \n",
    "Write a Python program to create a function that takes one argument, and that argument will be multiplied with an unknown given number."
   ]
  },
  {
   "cell_type": "code",
   "execution_count": 16,
   "metadata": {},
   "outputs": [
    {
     "name": "stdout",
     "output_type": "stream",
     "text": [
      "485\n"
     ]
    }
   ],
   "source": [
    "import random\n",
    "\n",
    "m = lambda x : x * random.randint(1,101)\n",
    "print(m(5))"
   ]
  },
  {
   "cell_type": "markdown",
   "metadata": {},
   "source": [
    "# 3. \n",
    "Write a Python program to sort a list of tuples using Lambda."
   ]
  },
  {
   "cell_type": "code",
   "execution_count": 22,
   "metadata": {},
   "outputs": [],
   "source": [
    "# l = [('Python',80),('Java',59),('OS',90),('Database',53)]"
   ]
  },
  {
   "cell_type": "code",
   "execution_count": 38,
   "metadata": {},
   "outputs": [
    {
     "name": "stdout",
     "output_type": "stream",
     "text": [
      "Unsorted :  [(2, 2), (3, 4), (4, 1), (1, 3)]\n",
      "Sorted   :  [(4, 1), (2, 2), (1, 3), (3, 4)]\n"
     ]
    }
   ],
   "source": [
    "# using regular function\n",
    "\n",
    "def second(i):\n",
    "    return i[1]\n",
    "l = [(2, 2), (3, 4), (4, 1), (1, 3)]\n",
    "print('Unsorted : ',l)\n",
    "\n",
    "sorted_l = sorted(l,key = second)\n",
    "print('Sorted   : ',sorted_l)"
   ]
  },
  {
   "cell_type": "markdown",
   "metadata": {},
   "source": [
    "###  -   key is valid keyword argument for sort(), we can't give other names\n"
   ]
  },
  {
   "cell_type": "code",
   "execution_count": 20,
   "metadata": {},
   "outputs": [
    {
     "name": "stdout",
     "output_type": "stream",
     "text": [
      "Unsorted :  [(2, 2), (3, 4), (4, 1), (1, 3)]\n",
      "Sorted   :  [(4, 1), (2, 2), (1, 3), (3, 4)]\n"
     ]
    }
   ],
   "source": [
    "l = [(2, 2), (3, 4), (4, 1), (1, 3)]\n",
    "print('Unsorted : ',l)\n",
    "\n",
    "l.sort(key = lambda x : x[1])\n",
    "print('Sorted   : ',l)"
   ]
  },
  {
   "cell_type": "markdown",
   "metadata": {},
   "source": [
    "# 4. \n",
    "\n",
    "Write a Python program to sort a list of dictionaries using Lambda."
   ]
  },
  {
   "cell_type": "code",
   "execution_count": 24,
   "metadata": {},
   "outputs": [
    {
     "name": "stdout",
     "output_type": "stream",
     "text": [
      "Unsorted Dic :  [{'Age': 49}, {'Age': 43}, {'Age': 51}, {'Age': 22}, {'Age': 37}]\n",
      "Sorted :  [{'Age': 22}, {'Age': 37}, {'Age': 43}, {'Age': 49}, {'Age': 51}]\n"
     ]
    }
   ],
   "source": [
    "# using sort method\n",
    "\n",
    "dic = [{'Age': 49},{'Age':43},{'Age':51},{'Age': 22},{'Age':37}]\n",
    "print('Unsorted Dic : ',dic)\n",
    "\n",
    "dic.sort(key = lambda x : x['Age'])\n",
    "print('Sorted : ',dic)"
   ]
  },
  {
   "cell_type": "code",
   "execution_count": 8,
   "metadata": {},
   "outputs": [
    {
     "name": "stdout",
     "output_type": "stream",
     "text": [
      "Unsorted Dic :  [{'Age': 49}, {'Age': 43}, {'Age': 51}, {'Age': 22}, {'Age': 37}]\n",
      "Sorted       :  [{'Age': 22}, {'Age': 37}, {'Age': 43}, {'Age': 49}, {'Age': 51}]\n"
     ]
    }
   ],
   "source": [
    "# using sorted method\n",
    "\n",
    "dic = [{'Age': 49},{'Age':43},{'Age':51},{'Age': 22},{'Age':37}]\n",
    "print('Unsorted Dic : ',dic)\n",
    "\n",
    "sorted_dic = sorted(dic, key = lambda x : x['Age'])\n",
    "print('Sorted       : ',sorted_dic)"
   ]
  },
  {
   "cell_type": "markdown",
   "metadata": {},
   "source": [
    "# 5. \n",
    "Write a Python program to filter a list of integers using Lambda."
   ]
  },
  {
   "cell_type": "code",
   "execution_count": 9,
   "metadata": {},
   "outputs": [
    {
     "name": "stdout",
     "output_type": "stream",
     "text": [
      "[1, 3, 5, 7, 9]\n"
     ]
    }
   ],
   "source": [
    "# Filter the odd numbers from 1 to 10\n",
    "l = [1,2,3,4,5,6,7,8,9]\n",
    "\n",
    "f = filter(lambda n : n % 2 != 0, l)\n",
    "print(list(f))"
   ]
  },
  {
   "cell_type": "markdown",
   "metadata": {},
   "source": [
    "# 6. \n",
    "\n",
    "Write a Python program to square and cube every number in a given list of integers using Lambda."
   ]
  },
  {
   "cell_type": "code",
   "execution_count": 14,
   "metadata": {},
   "outputs": [
    {
     "name": "stdout",
     "output_type": "stream",
     "text": [
      "Square :  [1, 4, 9, 16, 25, 36, 49, 64, 81, 100]\n",
      "Cube   :  [1, 8, 27, 64, 125, 216, 343, 512, 729, 1000]\n"
     ]
    }
   ],
   "source": [
    "# for square \n",
    "square = map(lambda x : x ** 2,range(1,11))\n",
    "print('Square : ',list(square))\n",
    "\n",
    "# for cube \n",
    "cube = map(lambda x : x ** 3,range(1,11))\n",
    "print('Cube   : ',list(cube))"
   ]
  },
  {
   "cell_type": "markdown",
   "metadata": {},
   "source": [
    "# 7. \n",
    "Write a Python program to find if a given string starts with a given character using Lambda."
   ]
  },
  {
   "cell_type": "code",
   "execution_count": 32,
   "metadata": {},
   "outputs": [
    {
     "name": "stdout",
     "output_type": "stream",
     "text": [
      "True\n",
      "False\n"
     ]
    }
   ],
   "source": [
    "s = lambda x : True if x[0] == 'P' else False\n",
    "print(s('Python'))\n",
    "\n",
    "s = lambda x : True if x[0] == 'P' else False\n",
    "print(s('Java'))"
   ]
  },
  {
   "cell_type": "markdown",
   "metadata": {},
   "source": [
    "# 8. \n",
    "Write a Python program to extract year, month, date and time using Lambda."
   ]
  },
  {
   "cell_type": "code",
   "execution_count": 84,
   "metadata": {},
   "outputs": [
    {
     "name": "stdout",
     "output_type": "stream",
     "text": [
      "Year  :  2020\n",
      "Month :  3\n",
      "Day   :  18\n",
      "Time  :  20:17:45.845585\n"
     ]
    }
   ],
   "source": [
    "import datetime\n",
    "\n",
    "current = datetime.datetime.now()\n",
    "\n",
    "year = lambda y : y.year\n",
    "month = lambda m : m.month\n",
    "day = lambda d : d.day\n",
    "t = lambda t : t.time()\n",
    "\n",
    "print('Year  : ', year(current))\n",
    "print('Month : ', month(current))\n",
    "print('Day   : ', day(current))\n",
    "print('Time  : ', t(current))"
   ]
  },
  {
   "cell_type": "markdown",
   "metadata": {},
   "source": [
    "# 9. \n",
    "Write a Python program to check whether a given string is number or not using Lambda."
   ]
  },
  {
   "cell_type": "code",
   "execution_count": 92,
   "metadata": {},
   "outputs": [
    {
     "name": "stdout",
     "output_type": "stream",
     "text": [
      "Enter Integer Value : 234\n",
      "Enter Integer Value : 123\n",
      "False\n"
     ]
    }
   ],
   "source": [
    "s = lambda x,y : True if x == int(y) else False\n",
    "\n",
    "x = int(input('Enter Integer Value : '))\n",
    "y = str(input('Enter Integer Value : '))\n",
    "print(s(x,y))"
   ]
  },
  {
   "cell_type": "markdown",
   "metadata": {},
   "source": [
    "# 10\n",
    "\n",
    "Write a Python program to create Fibonacci series upto n using Lambda."
   ]
  },
  {
   "cell_type": "code",
   "execution_count": 94,
   "metadata": {},
   "outputs": [],
   "source": [
    "# have to use reduce fucntions\n"
   ]
  },
  {
   "cell_type": "markdown",
   "metadata": {},
   "source": [
    "# 11. \n",
    "Write a Python program to find intersection of two given arrays using Lambda."
   ]
  },
  {
   "cell_type": "code",
   "execution_count": 7,
   "metadata": {},
   "outputs": [
    {
     "name": "stdout",
     "output_type": "stream",
     "text": [
      "[4, 6, 8]\n"
     ]
    }
   ],
   "source": [
    "l1 = [2,4,6,8,10,12]\n",
    "l2 = [3,4,5,6,7,8]\n",
    "\n",
    "intersection = list(filter(lambda x : x in l1,l2))\n",
    "print(intersection)"
   ]
  },
  {
   "cell_type": "markdown",
   "metadata": {},
   "source": [
    "# 12. \n",
    "Write a Python program to rearrange positive and negative numbers in a given array using Lambda."
   ]
  },
  {
   "cell_type": "code",
   "execution_count": 25,
   "metadata": {},
   "outputs": [
    {
     "name": "stdout",
     "output_type": "stream",
     "text": [
      "[-1, -8, -6, 0, 4, 8, 9, 7, 1, 2]\n"
     ]
    }
   ],
   "source": [
    "l1 = [4,-1,8,-8,9,7,-6,0,1,2]\n",
    "\n",
    "neg_to_pos = list(filter(lambda x: x < 0 or x == 0,l1)) + list(filter(lambda x : x > 0 ,l1))\n",
    "\n",
    "print(neg_to_pos)"
   ]
  },
  {
   "cell_type": "code",
   "execution_count": 26,
   "metadata": {},
   "outputs": [
    {
     "name": "stdout",
     "output_type": "stream",
     "text": [
      "Negative To Positive Numbers :  [-1, -8, -6, 0, 4, 8, 9, 7, 1, 2]\n"
     ]
    }
   ],
   "source": [
    "# using list comprehension\n",
    "\n",
    "l1 = [4,-1,8,-8,9,7,-6,0,1,2]\n",
    "\n",
    "result = [x for x in l1 if x < 0 or x == 0] + [x for x in l1 if x > 0]\n",
    "\n",
    "print('Negative To Positive Numbers : ',result)"
   ]
  },
  {
   "cell_type": "markdown",
   "metadata": {},
   "source": [
    "# 13. \n",
    "Write a Python program to count the even, odd numbers in a given array of integers using Lambda."
   ]
  },
  {
   "cell_type": "code",
   "execution_count": 52,
   "metadata": {},
   "outputs": [
    {
     "name": "stdout",
     "output_type": "stream",
     "text": [
      "There are 4 even numbers in the list.\n",
      "There are 4 odd numbers in the list.\n"
     ]
    }
   ],
   "source": [
    "import functools\n",
    "l = [2,3,4,5,6,7,8,9]\n",
    "\n",
    "even = len(list(filter(lambda x : x % 2 == 0,l)))\n",
    "print('There are {} even numbers in the list.'.format(even))\n",
    "\n",
    "odd = len(list(filter(lambda x : x % 2 != 0, l)))\n",
    "print('There are {} odd numbers in the list.'.format(odd))"
   ]
  }
 ],
 "metadata": {
  "kernelspec": {
   "display_name": "Python 3",
   "language": "python",
   "name": "python3"
  },
  "language_info": {
   "codemirror_mode": {
    "name": "ipython",
    "version": 3
   },
   "file_extension": ".py",
   "mimetype": "text/x-python",
   "name": "python",
   "nbconvert_exporter": "python",
   "pygments_lexer": "ipython3",
   "version": "3.7.4"
  }
 },
 "nbformat": 4,
 "nbformat_minor": 2
}
