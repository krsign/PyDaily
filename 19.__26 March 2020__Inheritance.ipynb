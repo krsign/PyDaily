{
 "cells": [
  {
   "cell_type": "code",
   "execution_count": 2,
   "metadata": {},
   "outputs": [],
   "source": [
    "class Contact:\n",
    "    all_contacts = []\n",
    "    def __init__(self, name, email):\n",
    "        self.name = name\n",
    "        self.email = email\n",
    "        Contact.all_contacts.append(self)"
   ]
  },
  {
   "cell_type": "code",
   "execution_count": 3,
   "metadata": {},
   "outputs": [],
   "source": [
    "class Supplier(Contact):\n",
    "    def order(self, order):\n",
    "        print('If this were real system we could send'\n",
    "             '{} order to {}'.format(order, self.name))"
   ]
  },
  {
   "cell_type": "code",
   "execution_count": 6,
   "metadata": {},
   "outputs": [
    {
     "name": "stdout",
     "output_type": "stream",
     "text": [
      "Git Hub github@gmail.com \n",
      " Sup Plier supplier@gmail.com\n"
     ]
    }
   ],
   "source": [
    "c = Contact('Git Hub', 'github@gmail.com')\n",
    "s = Supplier('Sup Plier', 'supplier@gmail.com')\n",
    "\n",
    "print(c.name, c.email,'\\n', s.name, s.email)"
   ]
  }
 ],
 "metadata": {
  "kernelspec": {
   "display_name": "Python 3",
   "language": "python",
   "name": "python3"
  },
  "language_info": {
   "codemirror_mode": {
    "name": "ipython",
    "version": 3
   },
   "file_extension": ".py",
   "mimetype": "text/x-python",
   "name": "python",
   "nbconvert_exporter": "python",
   "pygments_lexer": "ipython3",
   "version": "3.7.6"
  }
 },
 "nbformat": 4,
 "nbformat_minor": 4
}
