{
 "cells": [
  {
   "cell_type": "code",
   "execution_count": 9,
   "metadata": {},
   "outputs": [
    {
     "name": "stdout",
     "output_type": "stream",
     "text": [
      "<__main__.User object at 0x10a540350>\n"
     ]
    }
   ],
   "source": [
    "class User:\n",
    "    pass \n",
    "\n",
    "user1 = User()\n",
    "print(user1)"
   ]
  },
  {
   "cell_type": "code",
   "execution_count": 8,
   "metadata": {},
   "outputs": [
    {
     "name": "stdout",
     "output_type": "stream",
     "text": [
      "krsign\n",
      "nowimkr@gmail.com\n",
      "kr@123\n"
     ]
    }
   ],
   "source": [
    "class User:\n",
    "    def __init__(self,username,email,password):\n",
    "        self.username = username\n",
    "        self.email = email\n",
    "        self.password = password\n",
    "        \n",
    "user1 = User('krsign','nowimkr@gmail.com','kr@123')\n",
    "print(user1.username)\n",
    "print(user1.email)\n",
    "print(user1.password)"
   ]
  },
  {
   "cell_type": "code",
   "execution_count": 10,
   "metadata": {},
   "outputs": [
    {
     "name": "stdout",
     "output_type": "stream",
     "text": [
      "('krsign', 'nowimkr@gmail.com', 'kr@123')\n"
     ]
    }
   ],
   "source": [
    "class User:\n",
    "    def __init__(self,username,email,password):\n",
    "        self.username = username\n",
    "        self.email = email\n",
    "        self.password = password\n",
    "        \n",
    "    def get_details(self):\n",
    "        return self.username,self.email,self.password\n",
    "        \n",
    "user1 = User('krsign','nowimkr@gmail.com','kr@123')\n",
    "\n",
    "print(user1.get_details())"
   ]
  },
  {
   "cell_type": "code",
   "execution_count": 2,
   "metadata": {},
   "outputs": [
    {
     "name": "stdout",
     "output_type": "stream",
     "text": [
      "('aviceq', 'imaviceq@gmail.com', 'avi@123')\n"
     ]
    }
   ],
   "source": [
    "class User:\n",
    "    def __init__(self,username,email,password):\n",
    "        self.username = username\n",
    "        self.email = email\n",
    "        self.password = password\n",
    "        \n",
    "    def get_details(self):\n",
    "        return self.username,self.email,self.password\n",
    "        \n",
    "user1 = User('krsign','nowimkr@gmail.com','kr@123')\n",
    "user2 = User('aviceq','imaviceq@gmail.com','avi@123')\n",
    "\n",
    "print(user2.get_details())"
   ]
  },
  {
   "cell_type": "code",
   "execution_count": 7,
   "metadata": {},
   "outputs": [
    {
     "name": "stdout",
     "output_type": "stream",
     "text": [
      "('krsign', 'nowimkr@gmail.com', 'kr@123', '9102945725')\n"
     ]
    }
   ],
   "source": [
    "class User:\n",
    "    def __init__(self,username,email,password):\n",
    "        self.username = username\n",
    "        self.email = email\n",
    "        self.password = password\n",
    "    \n",
    "    def add_contact(self,number):\n",
    "        self.number = number\n",
    "        \n",
    "    def get_details(self):\n",
    "        return self.username,self.email,self.password,self.number\n",
    "        \n",
    "user1 = User('krsign','nowimkr@gmail.com','kr@123')\n",
    "user2 = User('aviceq','imaviceq@gmail.com','avi@123')\n",
    "\n",
    "user1.add_contact('9102945725')\n",
    "\n",
    "print(user1.get_details())"
   ]
  },
  {
   "cell_type": "code",
   "execution_count": 8,
   "metadata": {},
   "outputs": [
    {
     "name": "stdout",
     "output_type": "stream",
     "text": [
      "('krsign', 'nowimkr@gmail.com', 'kr@123', '9102945725')\n"
     ]
    },
    {
     "ename": "AttributeError",
     "evalue": "'User' object has no attribute 'number'",
     "output_type": "error",
     "traceback": [
      "\u001b[0;31m---------------------------------------------------------------------------\u001b[0m",
      "\u001b[0;31mAttributeError\u001b[0m                            Traceback (most recent call last)",
      "\u001b[0;32m<ipython-input-8-7a4c2d2ee677>\u001b[0m in \u001b[0;36m<module>\u001b[0;34m\u001b[0m\n\u001b[1;32m     17\u001b[0m \u001b[0;34m\u001b[0m\u001b[0m\n\u001b[1;32m     18\u001b[0m \u001b[0mprint\u001b[0m\u001b[0;34m(\u001b[0m\u001b[0muser1\u001b[0m\u001b[0;34m.\u001b[0m\u001b[0mget_details\u001b[0m\u001b[0;34m(\u001b[0m\u001b[0;34m)\u001b[0m\u001b[0;34m)\u001b[0m\u001b[0;34m\u001b[0m\u001b[0;34m\u001b[0m\u001b[0m\n\u001b[0;32m---> 19\u001b[0;31m \u001b[0mprint\u001b[0m\u001b[0;34m(\u001b[0m\u001b[0muser2\u001b[0m\u001b[0;34m.\u001b[0m\u001b[0mget_details\u001b[0m\u001b[0;34m(\u001b[0m\u001b[0;34m)\u001b[0m\u001b[0;34m)\u001b[0m\u001b[0;34m\u001b[0m\u001b[0;34m\u001b[0m\u001b[0m\n\u001b[0m",
      "\u001b[0;32m<ipython-input-8-7a4c2d2ee677>\u001b[0m in \u001b[0;36mget_details\u001b[0;34m(self)\u001b[0m\n\u001b[1;32m      9\u001b[0m \u001b[0;34m\u001b[0m\u001b[0m\n\u001b[1;32m     10\u001b[0m     \u001b[0;32mdef\u001b[0m \u001b[0mget_details\u001b[0m\u001b[0;34m(\u001b[0m\u001b[0mself\u001b[0m\u001b[0;34m)\u001b[0m\u001b[0;34m:\u001b[0m\u001b[0;34m\u001b[0m\u001b[0;34m\u001b[0m\u001b[0m\n\u001b[0;32m---> 11\u001b[0;31m         \u001b[0;32mreturn\u001b[0m \u001b[0mself\u001b[0m\u001b[0;34m.\u001b[0m\u001b[0musername\u001b[0m\u001b[0;34m,\u001b[0m\u001b[0mself\u001b[0m\u001b[0;34m.\u001b[0m\u001b[0memail\u001b[0m\u001b[0;34m,\u001b[0m\u001b[0mself\u001b[0m\u001b[0;34m.\u001b[0m\u001b[0mpassword\u001b[0m\u001b[0;34m,\u001b[0m\u001b[0mself\u001b[0m\u001b[0;34m.\u001b[0m\u001b[0mnumber\u001b[0m\u001b[0;34m\u001b[0m\u001b[0;34m\u001b[0m\u001b[0m\n\u001b[0m\u001b[1;32m     12\u001b[0m \u001b[0;34m\u001b[0m\u001b[0m\n\u001b[1;32m     13\u001b[0m \u001b[0muser1\u001b[0m \u001b[0;34m=\u001b[0m \u001b[0mUser\u001b[0m\u001b[0;34m(\u001b[0m\u001b[0;34m'krsign'\u001b[0m\u001b[0;34m,\u001b[0m\u001b[0;34m'nowimkr@gmail.com'\u001b[0m\u001b[0;34m,\u001b[0m\u001b[0;34m'kr@123'\u001b[0m\u001b[0;34m)\u001b[0m\u001b[0;34m\u001b[0m\u001b[0;34m\u001b[0m\u001b[0m\n",
      "\u001b[0;31mAttributeError\u001b[0m: 'User' object has no attribute 'number'"
     ]
    }
   ],
   "source": [
    "class User:\n",
    "    def __init__(self,username,email,password):\n",
    "        self.username = username\n",
    "        self.email = email\n",
    "        self.password = password\n",
    "    \n",
    "    def add_contact(self,number):\n",
    "        self.number = number\n",
    "        \n",
    "    def get_details(self):\n",
    "        return self.username,self.email,self.password,self.number\n",
    "        \n",
    "user1 = User('krsign','nowimkr@gmail.com','kr@123')\n",
    "user2 = User('aviceq','imaviceq@gmail.com','avi@123')\n",
    "\n",
    "user1.add_contact('9102945725')\n",
    "\n",
    "print(user1.get_details())\n",
    "\n",
    "#user2 won't return anything because we haven't initiated add_contact to user2\n",
    "print(user2.get_details())"
   ]
  },
  {
   "cell_type": "code",
   "execution_count": 25,
   "metadata": {},
   "outputs": [],
   "source": [
    "#Login username and password\n",
    "\n",
    "class User:\n",
    "    def __init__(self,username,email,password):\n",
    "        self.user_name = username\n",
    "        self.email = email\n",
    "        self.password = password\n",
    "    \n",
    "        \n",
    "    def login(self,username,password):\n",
    "        if self.user_name == username and self.password == password:\n",
    "            return True\n",
    "        else:\n",
    "            return False\n",
    "        \n",
    "    def get_details(self):\n",
    "        return self.user_name, self.email, self.password\n",
    "\n",
    "        \n",
    "user1 = User('krsign','nowimkr@gmail.com','kr@123')\n",
    "user2 = User('aviceq','imaviceq@gmail.com','avi@123')\n"
   ]
  },
  {
   "cell_type": "code",
   "execution_count": 24,
   "metadata": {},
   "outputs": [
    {
     "name": "stdout",
     "output_type": "stream",
     "text": [
      "True\n"
     ]
    }
   ],
   "source": [
    "result = user1.login('krsign','kr@123')\n",
    "print(result)"
   ]
  },
  {
   "cell_type": "code",
   "execution_count": 117,
   "metadata": {},
   "outputs": [],
   "source": [
    "# user active or inactive\n",
    "\n",
    "class User:\n",
    "    def __init__(self,username,email,password):\n",
    "        self.user_name = username\n",
    "        self.email = email\n",
    "        self.password = password \n",
    "        self.is_active = True\n",
    "        \n",
    "    def login(self,username,password):\n",
    "        if self.user_name == username and self.password == password:\n",
    "            return True\n",
    "        else:\n",
    "            return False\n",
    "        \n",
    "    def get_details(self):\n",
    "        return self.user_name, self.email, self.password\n",
    "    \n",
    "    def change_active_status(self,status):\n",
    "        self.is_active = status\n",
    "        return self.is_active\n",
    "       \n",
    "user1 = User('krsign','nowimkr@gmail.com','kr@123')\n",
    "user2 = User('aviceq','imaviceq@gmail.com','avi@123')"
   ]
  },
  {
   "cell_type": "code",
   "execution_count": 114,
   "metadata": {},
   "outputs": [
    {
     "name": "stdout",
     "output_type": "stream",
     "text": [
      "True\n"
     ]
    }
   ],
   "source": [
    "print(user1.is_active)"
   ]
  },
  {
   "cell_type": "code",
   "execution_count": 115,
   "metadata": {},
   "outputs": [
    {
     "data": {
      "text/plain": [
       "False"
      ]
     },
     "execution_count": 115,
     "metadata": {},
     "output_type": "execute_result"
    }
   ],
   "source": [
    "user2.change_active_status(False)"
   ]
  },
  {
   "cell_type": "code",
   "execution_count": 116,
   "metadata": {},
   "outputs": [
    {
     "name": "stdout",
     "output_type": "stream",
     "text": [
      "False\n"
     ]
    }
   ],
   "source": [
    "print(user2.is_active)"
   ]
  },
  {
   "cell_type": "code",
   "execution_count": 119,
   "metadata": {},
   "outputs": [],
   "source": [
    "class User:\n",
    "    def __init__(self,username,email,password):\n",
    "        self.user_name = username\n",
    "        self.email = email\n",
    "        self.password = password \n",
    "        self.is_active = True\n",
    "        \n",
    "#     def login(self,username,password):\n",
    "#         if self.user_name == username and self.password == password:\n",
    "#             return True\n",
    "#         else:\n",
    "#             return False\n",
    "        \n",
    "    def get_details(self):\n",
    "        return self.user_name, self.email\n",
    "    \n",
    "    def change_active_status(self,status):\n",
    "        self.is_active = status\n",
    "        return self.is_active\n",
    "       \n",
    "user1 = User('krsign','nowimkr@gmail.com','kr@123')\n",
    "\n",
    "user2 = User('aviceq','imaviceq@gmail.com','avi@123')\n",
    "\n",
    "user3 = User('robert','robert@gmail.com','robert@123')\n",
    "\n",
    "user4 = User('ironman','ironman@gmail.com','ironman@123')\n",
    "\n",
    "user5 = User('spiderman','spider@gmail.com','peter@123')\n"
   ]
  },
  {
   "cell_type": "code",
   "execution_count": 120,
   "metadata": {},
   "outputs": [
    {
     "data": {
      "text/plain": [
       "False"
      ]
     },
     "execution_count": 120,
     "metadata": {},
     "output_type": "execute_result"
    }
   ],
   "source": [
    "user2.change_active_status(False)"
   ]
  },
  {
   "cell_type": "code",
   "execution_count": 121,
   "metadata": {},
   "outputs": [],
   "source": [
    "users = [user1,user2,user3,user4,user5]"
   ]
  },
  {
   "cell_type": "code",
   "execution_count": 122,
   "metadata": {},
   "outputs": [
    {
     "name": "stdout",
     "output_type": "stream",
     "text": [
      "('krsign', 'nowimkr@gmail.com')\n",
      "('robert', 'robert@gmail.com')\n",
      "('ironman', 'ironman@gmail.com')\n",
      "('spiderman', 'spider@gmail.com')\n"
     ]
    }
   ],
   "source": [
    "for user in users:\n",
    "    if user.is_active:\n",
    "        print(user.get_details())"
   ]
  },
  {
   "cell_type": "code",
   "execution_count": 89,
   "metadata": {},
   "outputs": [
    {
     "name": "stdout",
     "output_type": "stream",
     "text": [
      "krishna\n"
     ]
    }
   ],
   "source": [
    "class User:\n",
    "    def signup(self,username,email,password):\n",
    "        self.username = username\n",
    "        self.email = email\n",
    "        self.password = password\n",
    "        \n",
    "user1 = User()\n",
    "user1.signup('krishna','nowimkr@gmail.com','kr@123')\n",
    "\n",
    "print(user1.username)"
   ]
  },
  {
   "cell_type": "markdown",
   "metadata": {},
   "source": [
    "# Homework"
   ]
  },
  {
   "cell_type": "code",
   "execution_count": null,
   "metadata": {},
   "outputs": [],
   "source": [
    "Student :\n",
    "    roll_no\n",
    "    class \n",
    "    marks : {\"sub\":80....5}\n",
    "    \n",
    "Total marks  = 500\n",
    "1 calulate the per for every student \n",
    "2. if per more than 40 : result : pass/fail \n",
    "3. All failed students and their details \n",
    "4. Top 3 students"
   ]
  },
  {
   "cell_type": "code",
   "execution_count": 142,
   "metadata": {},
   "outputs": [
    {
     "name": "stdout",
     "output_type": "stream",
     "text": [
      "46.0 Pass\n",
      "30.0 Fail\n",
      "56.0 Pass\n",
      "34.0 Fail\n",
      "50.0 Pass\n",
      "Fail Students :  ('Aquaman', '5', '11', 150)\n",
      "Fail Students :  ('Spyderman', '5', '13', 170)\n"
     ]
    }
   ],
   "source": [
    "class Student:\n",
    "    \n",
    "    def __init__(self,name,sclass,sroll,marks):\n",
    "        self.name = name\n",
    "        self.sclass = sclass\n",
    "        self.sroll = sroll\n",
    "        self.marks = marks\n",
    "        \n",
    "    def percent(self):\n",
    "        return (self.marks * 100) / 500\n",
    "    \n",
    "    def pass_fail(self):\n",
    "        per = (self.marks * 100) / 500\n",
    "        if per > 40:\n",
    "            return 'Pass'\n",
    "        else:\n",
    "            return 'Fail'\n",
    "    \n",
    "    def student_detail(self):\n",
    "        return self.name,self.sclass,self.sroll,self.marks\n",
    "        \n",
    "    \n",
    "student1 = Student('Robert Downy','5','10',230)\n",
    "print(student1.percent(),student1.pass_fail())\n",
    "\n",
    "student2 = Student('Aquaman','5','11',150)\n",
    "print(student2.percent(),student2.pass_fail())\n",
    "\n",
    "student3 = Student('Batman','5','12',280)\n",
    "print(student3.percent(),student3.pass_fail())\n",
    "\n",
    "student4 = Student('Spyderman','5','13',170)\n",
    "print(student4.percent(),student4.pass_fail())\n",
    "\n",
    "student5 = Student('Ironman','5','14',250)\n",
    "print(student5.percent(),student5.pass_fail())\n",
    "\n",
    "students = [student1,student2,student3,student4,student5]\n",
    "for student in students:\n",
    "    if student.percent() < 40:\n",
    "        print('Fail Students : ',student.student_detail())"
   ]
  },
  {
   "cell_type": "markdown",
   "metadata": {},
   "source": [
    "# Concept Building"
   ]
  },
  {
   "cell_type": "code",
   "execution_count": null,
   "metadata": {},
   "outputs": [],
   "source": [
    "class object support two kinds of operation:\n",
    "    - attribute refrence and instantiation"
   ]
  },
  {
   "cell_type": "code",
   "execution_count": null,
   "metadata": {},
   "outputs": [],
   "source": [
    "Attribute refrences :  \n",
    "    - uses the standard syntax used for all attributes refrence in python\n",
    "        - obj.name\n",
    "        \n",
    "Instantiation:\n",
    "    - uses function notaion.\n",
    "         - just pretend that class is a paramterless function that returns a new instance of the class\n",
    "    - instantiation creates an empty object\n",
    "    - many classes like to create objects with instance customizzed to a initial state\n",
    "    - therefore a class may define a special method named __init__()\n",
    "    - "
   ]
  },
  {
   "cell_type": "code",
   "execution_count": 11,
   "metadata": {},
   "outputs": [
    {
     "data": {
      "text/plain": [
       "<function __main__.MyClass.f(self)>"
      ]
     },
     "execution_count": 11,
     "metadata": {},
     "output_type": "execute_result"
    }
   ],
   "source": [
    "# reference\n",
    "class MyClass:\n",
    "    \"\"\"A simple example class\"\"\"\n",
    "    i = 1234\n",
    "    \n",
    "    def f(self):\n",
    "        return 'Hello Python!'\n",
    "    \n",
    "# MyClass.i = 4567  # can assign too\n",
    "MyClass.i\n",
    "MyClass.f"
   ]
  },
  {
   "cell_type": "code",
   "execution_count": 21,
   "metadata": {},
   "outputs": [
    {
     "data": {
      "text/plain": [
       "'Hello Python!'"
      ]
     },
     "execution_count": 21,
     "metadata": {},
     "output_type": "execute_result"
    }
   ],
   "source": [
    "#instantiation\n",
    "\n",
    "class MyClass:\n",
    "    \"\"\"A simple example class\"\"\"\n",
    "    i = 1234\n",
    "    \n",
    "    def f(self):\n",
    "        return 'Hello Python!'\n",
    "x = MyClass()\n",
    "x.f()"
   ]
  },
  {
   "cell_type": "code",
   "execution_count": null,
   "metadata": {},
   "outputs": [],
   "source": [
    "xf = x.f()\n",
    "while True:\n",
    "    print(xf)\n",
    "    \n",
    "#this will print hello 'end of the time!'"
   ]
  },
  {
   "cell_type": "code",
   "execution_count": null,
   "metadata": {},
   "outputs": [],
   "source": [
    "x.f() = equivalent to MyClass.f(x)"
   ]
  },
  {
   "cell_type": "code",
   "execution_count": 18,
   "metadata": {},
   "outputs": [
    {
     "data": {
      "text/plain": [
       "(3.0, -4.5)"
      ]
     },
     "execution_count": 18,
     "metadata": {},
     "output_type": "execute_result"
    }
   ],
   "source": [
    "# instantiation\n",
    "class Complex:\n",
    "    def __init__(self,realpart,imagpart):\n",
    "        self.r = realpart\n",
    "        self.i = imagpart\n",
    "x = Complex(3.0,-4.5)\n",
    "\n",
    "x.r,x.i"
   ]
  },
  {
   "cell_type": "markdown",
   "metadata": {},
   "source": [
    "# Class and Instance Variables¶"
   ]
  },
  {
   "cell_type": "code",
   "execution_count": null,
   "metadata": {},
   "outputs": [],
   "source": []
  }
 ],
 "metadata": {
  "kernelspec": {
   "display_name": "Python 3",
   "language": "python",
   "name": "python3"
  },
  "language_info": {
   "codemirror_mode": {
    "name": "ipython",
    "version": 3
   },
   "file_extension": ".py",
   "mimetype": "text/x-python",
   "name": "python",
   "nbconvert_exporter": "python",
   "pygments_lexer": "ipython3",
   "version": "3.7.4"
  }
 },
 "nbformat": 4,
 "nbformat_minor": 2
}
