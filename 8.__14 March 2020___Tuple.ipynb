{
 "cells": [
  {
   "cell_type": "markdown",
   "metadata": {},
   "source": [
    "# 1. \n",
    "Write a Python program to create a tuple."
   ]
  },
  {
   "cell_type": "code",
   "execution_count": 2,
   "metadata": {},
   "outputs": [
    {
     "name": "stdout",
     "output_type": "stream",
     "text": [
      "<class 'tuple'>\n"
     ]
    }
   ],
   "source": [
    "t = tuple()\n",
    "print(type(t))"
   ]
  },
  {
   "cell_type": "markdown",
   "metadata": {},
   "source": [
    "# 2. \n",
    "\n",
    "Write a Python program to create a tuple with different data types."
   ]
  },
  {
   "cell_type": "code",
   "execution_count": 5,
   "metadata": {},
   "outputs": [
    {
     "name": "stdout",
     "output_type": "stream",
     "text": [
      "('Tuple', True, 20, [2, 3])\n"
     ]
    }
   ],
   "source": [
    "t = ('Tuple' ,True ,20 ,[2,3])\n",
    "print(t)"
   ]
  },
  {
   "cell_type": "markdown",
   "metadata": {},
   "source": [
    "# 3. \n",
    "\n",
    "Write a Python program to create a tuple with numbers and print one item."
   ]
  },
  {
   "cell_type": "code",
   "execution_count": 8,
   "metadata": {},
   "outputs": [
    {
     "name": "stdout",
     "output_type": "stream",
     "text": [
      "5\n"
     ]
    }
   ],
   "source": [
    "t = (2,3,4,5)\n",
    "print(t[-1])"
   ]
  },
  {
   "cell_type": "markdown",
   "metadata": {},
   "source": [
    "# 4. \n",
    "\n",
    "Write a Python program to unpack a tuple in several variables. "
   ]
  },
  {
   "cell_type": "markdown",
   "metadata": {},
   "source": [
    "# packing and unpacking in tuple\n",
    "    \n",
    "    - right hand side value to left hand side"
   ]
  },
  {
   "cell_type": "code",
   "execution_count": 14,
   "metadata": {},
   "outputs": [
    {
     "name": "stdout",
     "output_type": "stream",
     "text": [
      "('krishna', 22, 'Bokaro')\n",
      "krishna\n",
      "22\n",
      "Bokaro\n"
     ]
    }
   ],
   "source": [
    "a = ('krishna',22,'Bokaro')\n",
    "print(a)\n",
    "\n",
    "# unpacking the value\n",
    "\n",
    "(name,age,hometown) = a\n",
    "\n",
    "# printing the value\n",
    "\n",
    "print(name)\n",
    "print(age)\n",
    "print(hometown)"
   ]
  },
  {
   "cell_type": "code",
   "execution_count": 20,
   "metadata": {},
   "outputs": [
    {
     "name": "stdout",
     "output_type": "stream",
     "text": [
      "[10, 'python', 3]\n",
      "string\n",
      "40\n"
     ]
    }
   ],
   "source": [
    "*x , y , z = (10, 'python', 3, 'string', 40)\n",
    "\n",
    "print(x)\n",
    "print(y)\n",
    "print(z)"
   ]
  },
  {
   "cell_type": "code",
   "execution_count": 21,
   "metadata": {},
   "outputs": [
    {
     "name": "stdout",
     "output_type": "stream",
     "text": [
      "10\n",
      "['python', 3, 'string']\n",
      "40\n"
     ]
    }
   ],
   "source": [
    "x , *y , z = (10, 'python', 3, 'string', 40)\n",
    "\n",
    "print(x)\n",
    "print(y)\n",
    "print(z)"
   ]
  },
  {
   "cell_type": "code",
   "execution_count": 22,
   "metadata": {},
   "outputs": [
    {
     "name": "stdout",
     "output_type": "stream",
     "text": [
      "10\n",
      "python\n",
      "[3, 'string', 40]\n"
     ]
    }
   ],
   "source": [
    "x , y , *z = (10, 'python', 3, 'string', 40)\n",
    "\n",
    "print(x)\n",
    "print(y)\n",
    "print(z)"
   ]
  },
  {
   "cell_type": "code",
   "execution_count": 23,
   "metadata": {},
   "outputs": [
    {
     "ename": "SyntaxError",
     "evalue": "two starred expressions in assignment (<ipython-input-23-f483cfec3d4f>, line 4)",
     "output_type": "error",
     "traceback": [
      "\u001b[0;36m  File \u001b[0;32m\"<ipython-input-23-f483cfec3d4f>\"\u001b[0;36m, line \u001b[0;32m4\u001b[0m\n\u001b[0;31m    print(y)\u001b[0m\n\u001b[0m           ^\u001b[0m\n\u001b[0;31mSyntaxError\u001b[0m\u001b[0;31m:\u001b[0m two starred expressions in assignment\n"
     ]
    }
   ],
   "source": [
    "# this won't work\n",
    "\n",
    "*x , *y , z = (10, 'python', 3, 'string', 40)\n",
    "\n",
    "print(x)\n",
    "print(y)\n",
    "print(z)"
   ]
  },
  {
   "cell_type": "markdown",
   "metadata": {},
   "source": [
    "# 5. \n",
    "Write a Python program to add an item in a tuple. "
   ]
  },
  {
   "cell_type": "code",
   "execution_count": 5,
   "metadata": {},
   "outputs": [
    {
     "name": "stdout",
     "output_type": "stream",
     "text": [
      "(1, 2, 3, 4, 5)\n"
     ]
    }
   ],
   "source": [
    "t1 = (1,2,3,4)\n",
    "\n",
    "#convert into list\n",
    "l1 = list(t1)\n",
    "\n",
    "#append the elements\n",
    "l1.append(5)\n",
    "\n",
    "# then convert into tuple\n",
    "t1 = tuple(l1)\n",
    "print(t1)"
   ]
  },
  {
   "cell_type": "code",
   "execution_count": 14,
   "metadata": {},
   "outputs": [
    {
     "name": "stdout",
     "output_type": "stream",
     "text": [
      "(1, 2, 3, 4, 5, 6)\n",
      "(1, 2, 3, 4, 5, 6, 9)\n",
      "5\n",
      "(1, 2, 3, 4, 5, 7, 8, 6, 9)\n"
     ]
    }
   ],
   "source": [
    "# other solution\n",
    "\n",
    "t1 = (1,2,3,4,5,6)\n",
    "print(t1)\n",
    "\n",
    "t1 = t1 + (9,) # , is required otherwise it will consider int\n",
    "print(t1)\n",
    "\n",
    "print(t1.index(6))   # if you want to add item in specific index find index\n",
    "\n",
    "t1 = t1[:5] + (7,8,) + t1[5:]\n",
    "print(t1)"
   ]
  },
  {
   "cell_type": "markdown",
   "metadata": {},
   "source": [
    "# 6. \n",
    "Write a Python program to convert a tuple to a string. "
   ]
  },
  {
   "cell_type": "code",
   "execution_count": 27,
   "metadata": {},
   "outputs": [
    {
     "name": "stdout",
     "output_type": "stream",
     "text": [
      "('T1', 'T2', 'T3')\n",
      "T1T2\n",
      "T1T2T3\n",
      "<class 'str'>\n"
     ]
    }
   ],
   "source": [
    "t1 = ('T1','T2','T3')\n",
    "print(t1)\n",
    "\n",
    "# to convert tuple into string \n",
    "# if you are specifying index\n",
    "\n",
    "s = ''.join(t1[0]+t1[1])\n",
    "print(s)\n",
    "\n",
    "# if index is not given\n",
    "s = ''.join(t1)\n",
    "print(s)\n",
    "\n",
    "#check the type\n",
    "print(type(s))\n"
   ]
  },
  {
   "cell_type": "markdown",
   "metadata": {},
   "source": [
    "# 7. \n",
    "\n",
    "Write a Python program to get the 4th element and 4th element from last of a tuple."
   ]
  },
  {
   "cell_type": "code",
   "execution_count": 31,
   "metadata": {},
   "outputs": [
    {
     "name": "stdout",
     "output_type": "stream",
     "text": [
      "4 7\n"
     ]
    }
   ],
   "source": [
    "t1 = (1,2,3,4,5,6,7,8,9,10)\n",
    "print(t1[3],t1[-4])"
   ]
  },
  {
   "cell_type": "markdown",
   "metadata": {},
   "source": [
    "# 8. \n",
    "Write a Python program to create the colon of a tuple."
   ]
  },
  {
   "cell_type": "code",
   "execution_count": 33,
   "metadata": {},
   "outputs": [
    {
     "name": "stdout",
     "output_type": "stream",
     "text": [
      "[('Host', 'www.perdu.com'), ('Connection', 'keep-alive'), ('Cache-Control', 'max-age=0'), ('Accept', 'text/html,application/xhtml+xml,application/xml;q=0.9,image/webp,/;q=0.8'), ('User-Agent', 'Mozilla/5.0 (Macintosh; Intel Mac OS X 10_9_4) AppleWebKit/537.36 (KHTML, like Gecko) Chrome/38.0.2125.111 Safari/537.36'), ('DNT', '1'), ('Accept-Encoding', 'gzip,deflate,sdch'), ('Accept-Language', 'en-US,en;q=0.8,es;q=0.6,fr;q=0.4'), ('',)]\n"
     ]
    }
   ],
   "source": [
    "# headers = ['Host: www.perdu.com', 'Connection: keep-alive', \n",
    "#            'Cache-Control: max-age=0', \n",
    "#            'Accept: text/html,application/xhtml+xml,application/xml;q=0.9,image/webp,/;q=0.8',\n",
    "#            'User-Agent: Mozilla/5.0 (Macintosh; Intel Mac OS X 10_9_4) AppleWebKit/537.36 (KHTML, like Gecko) Chrome/38.0.2125.111 Safari/537.36',\n",
    "#            'DNT: 1', 'Accept-Encoding: gzip,deflate,sdch', 'Accept-Language: en-US,en;q=0.8,es;q=0.6,fr;q=0.4', '']\n",
    "# t1 = [tuple(i.split(': ')) for i in headers]\n",
    "# print(t1)"
   ]
  },
  {
   "cell_type": "code",
   "execution_count": 45,
   "metadata": {},
   "outputs": [
    {
     "name": "stdout",
     "output_type": "stream",
     "text": [
      "('Python', [], 5, True)\n",
      "4621770384\n",
      "('Python', [10], 5, True)\n",
      "4621770384\n"
     ]
    }
   ],
   "source": [
    "from copy import deepcopy\n",
    "\n",
    "# create tuple\n",
    "\n",
    "t1 = ('Python',[],5,True)\n",
    "\n",
    "# copy of tuple t1 using deepcopy\n",
    "\n",
    "t1_copy = deepcopy(t1)\n",
    "print(t1_copy)\n",
    "print(id(t1_copy))\n",
    "\n",
    "\n",
    "# we can append list inside tuple\n",
    "\n",
    "t1_copy[1].append(10)\n",
    "print(t1_copy)\n",
    "print(id(t1_copy))\n"
   ]
  },
  {
   "cell_type": "markdown",
   "metadata": {},
   "source": [
    "# 9. \n",
    "Write a Python program to find the repeated items of a tuple."
   ]
  },
  {
   "cell_type": "code",
   "execution_count": 46,
   "metadata": {},
   "outputs": [
    {
     "name": "stdout",
     "output_type": "stream",
     "text": [
      "4\n"
     ]
    }
   ],
   "source": [
    "t1 = (1,2,3,4,5,1,4,5,1,2,3,1)\n",
    "print(t1.count(1))"
   ]
  },
  {
   "cell_type": "code",
   "execution_count": 54,
   "metadata": {},
   "outputs": [
    {
     "name": "stdout",
     "output_type": "stream",
     "text": [
      "1 : 4\n",
      "2 : 2\n",
      "3 : 2\n",
      "4 : 2\n",
      "5 : 2\n",
      "1 : 4\n",
      "4 : 2\n",
      "5 : 2\n",
      "1 : 4\n",
      "2 : 2\n",
      "3 : 2\n",
      "1 : 4\n"
     ]
    }
   ],
   "source": [
    "t1 = (1,2,3,4,5,1,4,5,1,2,3,1)\n",
    "for t in t1:\n",
    "    t1.count(t)\n",
    "    print(t,':',t1.count(t))"
   ]
  },
  {
   "cell_type": "markdown",
   "metadata": {},
   "source": [
    "# 10. \n",
    "Write a Python program to check whether an element exists within a tuple.\n"
   ]
  },
  {
   "cell_type": "code",
   "execution_count": 57,
   "metadata": {},
   "outputs": [
    {
     "name": "stdout",
     "output_type": "stream",
     "text": [
      "False\n"
     ]
    }
   ],
   "source": [
    "t1 = (1,2,3,4,5,6,7)\n",
    "if 9 in t1:\n",
    "    print(True)\n",
    "else:\n",
    "    print(False)"
   ]
  },
  {
   "cell_type": "code",
   "execution_count": null,
   "metadata": {},
   "outputs": [],
   "source": []
  }
 ],
 "metadata": {
  "kernelspec": {
   "display_name": "Python 3",
   "language": "python",
   "name": "python3"
  },
  "language_info": {
   "codemirror_mode": {
    "name": "ipython",
    "version": 3
   },
   "file_extension": ".py",
   "mimetype": "text/x-python",
   "name": "python",
   "nbconvert_exporter": "python",
   "pygments_lexer": "ipython3",
   "version": "3.7.4"
  }
 },
 "nbformat": 4,
 "nbformat_minor": 2
}
