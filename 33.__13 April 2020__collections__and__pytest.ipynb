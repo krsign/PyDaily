{
 "cells": [
  {
   "cell_type": "markdown",
   "metadata": {},
   "source": [
    "### Counter"
   ]
  },
  {
   "cell_type": "code",
   "execution_count": 2,
   "metadata": {},
   "outputs": [],
   "source": [
    "from collections import Counter"
   ]
  },
  {
   "cell_type": "code",
   "execution_count": 4,
   "metadata": {},
   "outputs": [
    {
     "name": "stdout",
     "output_type": "stream",
     "text": [
      "Counter({10: 2, 40: 2, 30: 2, 20: 1, 50: 1, 60: 1})\n"
     ]
    }
   ],
   "source": [
    "l = [10,10,20,40,30,30,40,50,60]\n",
    "c = Counter(l)\n",
    "\n",
    "print(c)"
   ]
  },
  {
   "cell_type": "code",
   "execution_count": 8,
   "metadata": {},
   "outputs": [
    {
     "name": "stdout",
     "output_type": "stream",
     "text": [
      "3\n",
      "1\n"
     ]
    }
   ],
   "source": [
    "l = [10,10,20,40,30,30,40,50,60,40]\n",
    "c = Counter(l)\n",
    "\n",
    "# we can use dict operations\n",
    "print(c.get(40))\n",
    "print(c[20])"
   ]
  },
  {
   "cell_type": "code",
   "execution_count": 9,
   "metadata": {},
   "outputs": [
    {
     "name": "stdout",
     "output_type": "stream",
     "text": [
      "Counter({'l': 9, 'a': 5, 'b': 5, 's': 4, 'd': 2, 'r': 1, 'k': 1})\n"
     ]
    }
   ],
   "source": [
    "s = 'abbbbsdbdrsklsalaslallallll'\n",
    "c = Counter(s)\n",
    "\n",
    "print(c)"
   ]
  },
  {
   "cell_type": "code",
   "execution_count": 24,
   "metadata": {},
   "outputs": [
    {
     "name": "stdout",
     "output_type": "stream",
     "text": [
      "[('l', 9), ('a', 5)]\n",
      "('l', 9)\n",
      "l\n"
     ]
    }
   ],
   "source": [
    "s = 'abbbbsdbdrsklsalaslallallll'\n",
    "c = Counter(s)\n",
    "\n",
    "print(c.most_common(2))\n",
    "\n",
    "print(c.most_common(2)[0])\n",
    "\n",
    "print(c.most_common(2)[0][0])"
   ]
  },
  {
   "cell_type": "markdown",
   "metadata": {},
   "source": [
    "#### update"
   ]
  },
  {
   "cell_type": "code",
   "execution_count": 26,
   "metadata": {},
   "outputs": [
    {
     "name": "stdout",
     "output_type": "stream",
     "text": [
      "{1: 1, 2: 2, 3: 9, 4: 16, 5: 25, 6: 36}\n"
     ]
    }
   ],
   "source": [
    "# using dict method\n",
    "\n",
    "d1 = {1:1, 2:2, 3:9}\n",
    "d2 = {4:16, 5:25, 6:36}\n",
    "d1.update(d2)\n",
    "\n",
    "print(d1)"
   ]
  },
  {
   "cell_type": "code",
   "execution_count": 31,
   "metadata": {},
   "outputs": [
    {
     "name": "stdout",
     "output_type": "stream",
     "text": [
      "Counter({10: 2, 20: 1, 30: 1, 40: 1, 50: 1, 60: 1, 70: 1})\n",
      "Counter({10: 2, 20: 1, 30: 1, 40: 1, 50: 1, 60: 1, 70: 1}) Counter({20: 3, 30: 2, 10: 1, 40: 1, 50: 1, 60: 1, 70: 1})\n",
      "Counter({20: 4, 10: 3, 30: 3, 40: 2, 50: 2, 60: 2, 70: 2})\n",
      "Counter({10: 2, 20: 1, 30: 1, 40: 1, 50: 1, 60: 1, 70: 1})\n"
     ]
    }
   ],
   "source": [
    "l1 = [10,10,20,30,40,50,60,70]\n",
    "c1 = Counter(l1)\n",
    "print(c1)\n",
    "\n",
    "l2 = [10,20,20,20,30,30,40,50,60,70]\n",
    "c2 = Counter(l2)\n",
    "\n",
    "print(c1, c2)\n",
    "\n",
    "c1.update(c2)\n",
    "print(c1)\n",
    "\n",
    "c1.subtract(c2)\n",
    "print(c1)"
   ]
  }
 ],
 "metadata": {
  "kernelspec": {
   "display_name": "Python 3",
   "language": "python",
   "name": "python3"
  },
  "language_info": {
   "codemirror_mode": {
    "name": "ipython",
    "version": 3
   },
   "file_extension": ".py",
   "mimetype": "text/x-python",
   "name": "python",
   "nbconvert_exporter": "python",
   "pygments_lexer": "ipython3",
   "version": "3.7.6"
  }
 },
 "nbformat": 4,
 "nbformat_minor": 4
}
