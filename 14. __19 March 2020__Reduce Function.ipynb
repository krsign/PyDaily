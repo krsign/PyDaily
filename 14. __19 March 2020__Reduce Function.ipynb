{
 "cells": [
  {
   "cell_type": "markdown",
   "metadata": {},
   "source": [
    "# Reduce \n",
    "    - takes a function and an iterable and returns a single value.\n",
    "    - This performs a repetitive operation over the pairs of the iterable\n",
    "    - import functools"
   ]
  },
  {
   "cell_type": "markdown",
   "metadata": {},
   "source": [
    "# Working : \n",
    "    - At first step, first two elements of sequence are picked and result is obtained.\n",
    "    \n",
    "    - Next step is to apply the same function to the previously attained result and the number just succeeding the second element and the result is again stored.\n",
    "    \n",
    "    -  process continues till no more elements are left in the container.\n",
    "    \n",
    "    - the final return result is returned and printed in console"
   ]
  },
  {
   "cell_type": "code",
   "execution_count": 14,
   "metadata": {},
   "outputs": [],
   "source": [
    "import functools"
   ]
  },
  {
   "cell_type": "code",
   "execution_count": 15,
   "metadata": {},
   "outputs": [
    {
     "name": "stdout",
     "output_type": "stream",
     "text": [
      "45\n"
     ]
    }
   ],
   "source": [
    "# sum of list elements\n",
    "l1 = [1,2,3,4,5,6,7,8,9]\n",
    "\n",
    "reduce_function = functools.reduce(lambda a, b : a + b, l1)\n",
    "print(reduce_function)"
   ]
  },
  {
   "cell_type": "code",
   "execution_count": 16,
   "metadata": {},
   "outputs": [
    {
     "name": "stdout",
     "output_type": "stream",
     "text": [
      "9\n"
     ]
    }
   ],
   "source": [
    "l1 = [1,2,3,4,5,6,7,8,9]\n",
    "\n",
    "max_num = functools.reduce(lambda a, b : a if a > b else b ,l1)\n",
    "print(max_num)"
   ]
  },
  {
   "cell_type": "markdown",
   "metadata": {},
   "source": [
    "# Using operator functions"
   ]
  },
  {
   "cell_type": "code",
   "execution_count": 20,
   "metadata": {},
   "outputs": [
    {
     "name": "stdout",
     "output_type": "stream",
     "text": [
      "21\n"
     ]
    }
   ],
   "source": [
    "import operator\n",
    "\n",
    "l1 = [1,2,3,4,5,6]\n",
    "\n",
    "summation = functools.reduce(operator.add,l1)\n",
    "print(summation)"
   ]
  },
  {
   "cell_type": "code",
   "execution_count": null,
   "metadata": {},
   "outputs": [],
   "source": [
    "l1 = [1,2,3,4,5,6,7]\n",
    "\n",
    "multiplication = func"
   ]
  }
 ],
 "metadata": {
  "kernelspec": {
   "display_name": "Python 3",
   "language": "python",
   "name": "python3"
  },
  "language_info": {
   "codemirror_mode": {
    "name": "ipython",
    "version": 3
   },
   "file_extension": ".py",
   "mimetype": "text/x-python",
   "name": "python",
   "nbconvert_exporter": "python",
   "pygments_lexer": "ipython3",
   "version": "3.7.4"
  }
 },
 "nbformat": 4,
 "nbformat_minor": 2
}
