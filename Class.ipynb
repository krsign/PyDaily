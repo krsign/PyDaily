{
 "cells": [
  {
   "cell_type": "code",
   "execution_count": 21,
   "metadata": {},
   "outputs": [
    {
     "name": "stdout",
     "output_type": "stream",
     "text": [
      "S728\n",
      "124839\n",
      "S8244 is running\n"
     ]
    }
   ],
   "source": [
    "class Car:\n",
    "    \n",
    "    def __init__(self, model, color, price):\n",
    "        self.model = model\n",
    "        self.color = color\n",
    "        self.price = price\n",
    "        \n",
    "    def drive(self):\n",
    "        print('{} is running'.format(self.model))\n",
    "        \n",
    "\n",
    "audi7 = Car('S728', 'White', 123448)\n",
    "\n",
    "# objects are independent to each other\n",
    "\n",
    "audi3 = Car('S8244', 'Red', 124839)\n",
    "\n",
    "\n",
    "audi4 = Car('KS282', 'Black', 27838)\n",
    "\n",
    "\n",
    "print(audi7.model)\n",
    "print(audi3.price)\n",
    "audi3.drive()"
   ]
  }
 ],
 "metadata": {
  "kernelspec": {
   "display_name": "Python 3",
   "language": "python",
   "name": "python3"
  },
  "language_info": {
   "codemirror_mode": {
    "name": "ipython",
    "version": 3
   },
   "file_extension": ".py",
   "mimetype": "text/x-python",
   "name": "python",
   "nbconvert_exporter": "python",
   "pygments_lexer": "ipython3",
   "version": "3.7.6"
  }
 },
 "nbformat": 4,
 "nbformat_minor": 4
}
