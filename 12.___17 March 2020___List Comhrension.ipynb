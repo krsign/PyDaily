{
 "cells": [
  {
   "cell_type": "markdown",
   "metadata": {},
   "source": [
    "# list comhrehension"
   ]
  },
  {
   "cell_type": "code",
   "execution_count": null,
   "metadata": {},
   "outputs": [],
   "source": [
    "l = [ output for value in l filtering conditions]"
   ]
  },
  {
   "cell_type": "code",
   "execution_count": 42,
   "metadata": {},
   "outputs": [
    {
     "name": "stdout",
     "output_type": "stream",
     "text": [
      "[3, 5, 11, 19]\n"
     ]
    }
   ],
   "source": [
    "l = ['abc','abcdf','skjhasjkkja','adjdsgksdgksddsakds']\n",
    "l1 = [len(value) for value in l]\n",
    "print(l1)"
   ]
  },
  {
   "cell_type": "code",
   "execution_count": 44,
   "metadata": {},
   "outputs": [
    {
     "name": "stdout",
     "output_type": "stream",
     "text": [
      "[15, 25, 35, 45, 55]\n"
     ]
    }
   ],
   "source": [
    "l1 = [10,15,20,25,30,35,40,45,50,55,60]\n",
    "even = [ i for i in l1 if i % 2 != 0]\n",
    "print(even)"
   ]
  },
  {
   "cell_type": "code",
   "execution_count": 51,
   "metadata": {},
   "outputs": [
    {
     "name": "stdout",
     "output_type": "stream",
     "text": [
      "['even', 'odd', 'even', 'odd', 'even', 'odd', 'even', 'odd', 'even', 'odd', 'even']\n"
     ]
    }
   ],
   "source": [
    "l1 = [10,15,20,25,30,35,40,45,50,55,60]\n",
    "l2 = ['even' if i % 2 == 0 else 'odd' for i in l1]\n",
    "print(l2)"
   ]
  },
  {
   "cell_type": "code",
   "execution_count": 1,
   "metadata": {},
   "outputs": [
    {
     "name": "stdout",
     "output_type": "stream",
     "text": [
      "[1, 4, 9, 16, 25]\n"
     ]
    }
   ],
   "source": [
    "# square of numbers in a list using (forloop)\n",
    "\n",
    "l1 = [1,2,3,4,5]\n",
    "l2 = []\n",
    "\n",
    "for elements in l1:\n",
    "    l2.append(elements ** 2)\n",
    "print(l2)"
   ]
  },
  {
   "cell_type": "code",
   "execution_count": 2,
   "metadata": {},
   "outputs": [
    {
     "name": "stdout",
     "output_type": "stream",
     "text": [
      "[1, 4, 9, 16, 25]\n"
     ]
    }
   ],
   "source": [
    "# same problem usig List comprehension\n",
    "\n",
    "l1 = [1,2,3,4,5]\n",
    "\n",
    "l2 = [(elements ** 2) for elements in l1]\n",
    "print(l2)"
   ]
  },
  {
   "cell_type": "code",
   "execution_count": 4,
   "metadata": {},
   "outputs": [
    {
     "name": "stdout",
     "output_type": "stream",
     "text": [
      "[1, 4, 9, 16, 25]\n"
     ]
    }
   ],
   "source": [
    "# we can use range as well \n",
    "\n",
    "l = [i ** 2 for i in range(1,6)]\n",
    "print(l)"
   ]
  },
  {
   "cell_type": "code",
   "execution_count": 5,
   "metadata": {},
   "outputs": [
    {
     "name": "stdout",
     "output_type": "stream",
     "text": [
      "[3]\n"
     ]
    }
   ],
   "source": [
    "# finding common element in list using (for loop)\n",
    "\n",
    "l1 = [1,3,5,7,9]\n",
    "l2 = [2,3,4,6,8]\n",
    "\n",
    "common = []\n",
    "\n",
    "for i in l1:\n",
    "    for j in l2:\n",
    "        if i == j:\n",
    "            common.append(i)\n",
    "print(common)"
   ]
  },
  {
   "cell_type": "code",
   "execution_count": 10,
   "metadata": {},
   "outputs": [
    {
     "name": "stdout",
     "output_type": "stream",
     "text": [
      "[3]\n"
     ]
    }
   ],
   "source": [
    "# same problem using list comhrension\n",
    "\n",
    "l1 = [1,3,5,7,9]\n",
    "l2 = [2,3,4,6,8]\n",
    "\n",
    "common = [ i for i in l1 for j in l2 if i == j]\n",
    "print(common)"
   ]
  },
  {
   "cell_type": "code",
   "execution_count": 14,
   "metadata": {},
   "outputs": [
    {
     "name": "stdout",
     "output_type": "stream",
     "text": [
      "[(1, 2), (1, 3), (1, 4), (1, 6), (1, 8), (3, 2), (3, 4), (3, 6), (3, 8), (5, 2), (5, 3), (5, 4), (5, 6), (5, 8), (7, 2), (7, 3), (7, 4), (7, 6), (7, 8), (9, 2), (9, 3), (9, 4), (9, 6), (9, 8)]\n"
     ]
    }
   ],
   "source": [
    "# return number which are not equal in tuple\n",
    "\n",
    "l1 = [1,3,5,7,9]\n",
    "l2 = [2,3,4,6,8]\n",
    "\n",
    "uncommon = [(i,j) for i in l1 for j in l2 if i != j]\n",
    "print(uncommon)"
   ]
  },
  {
   "cell_type": "code",
   "execution_count": 20,
   "metadata": {},
   "outputs": [
    {
     "name": "stdout",
     "output_type": "stream",
     "text": [
      "['PYTHON', 'IS', 'BEST', 'FOR', 'BEGINNERS']\n"
     ]
    }
   ],
   "source": [
    "# list comprehension in string\n",
    "\n",
    "l1 = ['python','is','best','for','beginners']\n",
    "\n",
    "l2 = [str.upper(s) for s in l1]\n",
    "print(l2)"
   ]
  },
  {
   "cell_type": "code",
   "execution_count": 19,
   "metadata": {},
   "outputs": [
    {
     "name": "stdout",
     "output_type": "stream",
     "text": [
      "[[1, 1], [4, 8], [9, 27], [16, 64], [25, 125], [36, 216], [49, 343], [64, 512], [81, 729], [100, 1000]]\n"
     ]
    }
   ],
   "source": [
    "# list comhrension can be used to produce List Inside List\n",
    "\n",
    "l = [[i **2,i**3] for i in range(1,11)]\n",
    "print(l)"
   ]
  },
  {
   "cell_type": "code",
   "execution_count": 26,
   "metadata": {},
   "outputs": [],
   "source": [
    "import timeit"
   ]
  },
  {
   "cell_type": "markdown",
   "metadata": {},
   "source": [
    "# execution time\n",
    "    - it will execute same problem at less time but not huge difference"
   ]
  },
  {
   "cell_type": "code",
   "execution_count": 40,
   "metadata": {},
   "outputs": [
    {
     "name": "stdout",
     "output_type": "stream",
     "text": [
      "0.535904716999994\n"
     ]
    }
   ],
   "source": [
    "t1 = timeit.timeit(stmt = \"\"\"\n",
    "l1 = [i for i in range(1,10000000)]\n",
    "\"\"\",number = 1)\n",
    "print(t)"
   ]
  },
  {
   "cell_type": "code",
   "execution_count": 41,
   "metadata": {},
   "outputs": [
    {
     "name": "stdout",
     "output_type": "stream",
     "text": [
      "0.535904716999994\n"
     ]
    }
   ],
   "source": [
    "t2 = timeit.timeit(stmt = \"\"\"\n",
    "l1 = []\n",
    "for i in range(1,10000000):\n",
    "    l1.append(i)\n",
    "\"\"\",number = 1)\n",
    "print(t)"
   ]
  }
 ],
 "metadata": {
  "kernelspec": {
   "display_name": "Python 3",
   "language": "python",
   "name": "python3"
  },
  "language_info": {
   "codemirror_mode": {
    "name": "ipython",
    "version": 3
   },
   "file_extension": ".py",
   "mimetype": "text/x-python",
   "name": "python",
   "nbconvert_exporter": "python",
   "pygments_lexer": "ipython3",
   "version": "3.7.4"
  }
 },
 "nbformat": 4,
 "nbformat_minor": 2
}
