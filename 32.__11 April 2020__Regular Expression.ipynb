{
 "cells": [
  {
   "cell_type": "code",
   "execution_count": null,
   "metadata": {},
   "outputs": [],
   "source": [
    "1. pattern extraction: from file extract only email\n",
    "2. pattern validation: given an email address validate if its valid or not"
   ]
  },
  {
   "cell_type": "code",
   "execution_count": 1,
   "metadata": {},
   "outputs": [],
   "source": [
    "import re"
   ]
  },
  {
   "cell_type": "code",
   "execution_count": 2,
   "metadata": {},
   "outputs": [
    {
     "name": "stdout",
     "output_type": "stream",
     "text": [
      "['ab', 'ab', 'ab']\n"
     ]
    }
   ],
   "source": [
    "r = re.compile('ab')\n",
    "s = 'abcdabcdabcd'\n",
    "l = re.findall(r,s)\n",
    "print(l)"
   ]
  },
  {
   "cell_type": "code",
   "execution_count": null,
   "metadata": {},
   "outputs": [],
   "source": [
    "Metacharacters:\n",
    "    [a-z] : char class: 1 occurence of [a-z] or a or b or c or d or ... z\n",
    "    [0-9] : digit class [0-9] : 1 occurence\n",
    "    [A-Za-z0-9] : A or B or ... Z or a or b or ... z\n",
    "        \n",
    "    + : atleast one occurence should be thre if more it would work\n",
    "    * : 0 or more occurence are allowed\n",
    "    ^ : start of the string\n",
    "    $ : end of the string\n",
    "        \n",
    "        \n",
    "        "
   ]
  },
  {
   "cell_type": "code",
   "execution_count": 5,
   "metadata": {},
   "outputs": [
    {
     "name": "stdout",
     "output_type": "stream",
     "text": [
      "['a', 'b', 'a']\n"
     ]
    }
   ],
   "source": [
    "r = re.compile('[a-z]')\n",
    "s = 'aba'\n",
    "l = re.findall(r, s)\n",
    "print(l)"
   ]
  },
  {
   "cell_type": "code",
   "execution_count": 6,
   "metadata": {},
   "outputs": [
    {
     "name": "stdout",
     "output_type": "stream",
     "text": [
      "['1', '2', '3', '4']\n"
     ]
    }
   ],
   "source": [
    "r = re.compile('[0-9]')\n",
    "s = 'aba1234'\n",
    "l = re.findall(r, s)\n",
    "print(l)"
   ]
  },
  {
   "cell_type": "code",
   "execution_count": 7,
   "metadata": {},
   "outputs": [
    {
     "name": "stdout",
     "output_type": "stream",
     "text": [
      "['d1', 'Z4', ' 9']\n"
     ]
    }
   ],
   "source": [
    "r = re.compile('[A-Z a-z][0-9]')\n",
    "s = 'ABabcd123Z4 9'\n",
    "l = re.findall(r, s)\n",
    "print(l)"
   ]
  }
 ],
 "metadata": {
  "kernelspec": {
   "display_name": "Python 3",
   "language": "python",
   "name": "python3"
  },
  "language_info": {
   "codemirror_mode": {
    "name": "ipython",
    "version": 3
   },
   "file_extension": ".py",
   "mimetype": "text/x-python",
   "name": "python",
   "nbconvert_exporter": "python",
   "pygments_lexer": "ipython3",
   "version": "3.7.6"
  }
 },
 "nbformat": 4,
 "nbformat_minor": 4
}
