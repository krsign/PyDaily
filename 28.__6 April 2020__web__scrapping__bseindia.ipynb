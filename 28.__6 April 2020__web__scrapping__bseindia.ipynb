{
 "cells": [
  {
   "cell_type": "code",
   "execution_count": 1,
   "metadata": {},
   "outputs": [],
   "source": [
    "import requests\n",
    "from bs4 import BeautifulSoup"
   ]
  },
  {
   "cell_type": "code",
   "execution_count": 2,
   "metadata": {},
   "outputs": [],
   "source": [
    "response = requests.get('https://www.bseindia.com/markets/equity/EQReports/MarketWatch.html?index_code=16')\n",
    "soup = BeautifulSoup(response.content, 'html.parser')"
   ]
  },
  {
   "cell_type": "code",
   "execution_count": 3,
   "metadata": {},
   "outputs": [
    {
     "name": "stdout",
     "output_type": "stream",
     "text": [
      "['Security Code', 'Security Name', 'Security Group', 'Open', 'High', 'Low', 'LTP', 'No. of Shares Traded', 'Total Turnover(₹ Lac.)', 'No. of Trades']\n"
     ]
    }
   ],
   "source": [
    "top_table = soup.find_all('td', attrs = {'class':'tableheading'})\n",
    "top_row = [i.text for i in top_table]\n",
    "print(top_row)"
   ]
  },
  {
   "cell_type": "code",
   "execution_count": 6,
   "metadata": {},
   "outputs": [
    {
     "name": "stdout",
     "output_type": "stream",
     "text": [
      "None\n"
     ]
    }
   ],
   "source": [
    "row1 = soup.find_all('td', attrs = {'class':'ng-binding'})\n",
    "print(row1)"
   ]
  },
  {
   "cell_type": "code",
   "execution_count": 9,
   "metadata": {},
   "outputs": [
    {
     "name": "stdout",
     "output_type": "stream",
     "text": [
      "[<div class=\"col-lg-12 largetable\">\n",
      "<table border=\"0\" cellpadding=\"0\" cellspacing=\"0\" ng-show=\"MktData.Table.length &gt; 0\" width=\"100%\">\n",
      "<tbody>\n",
      "<tr>\n",
      "<td bgcolor=\"#d6d6d6\">\n",
      "<div ng-if=\"loader.DEState=='loading'\"><img src=\"/include/images/loader.gif\"/></div>\n",
      "<table border=\"0\" cellpadding=\"4\" cellspacing=\"1\" ng-if=\"loader.DEState=='loaded'\" width=\"100%\">\n",
      "<thead>\n",
      "<tr>\n",
      "<td class=\"tableheading\">Security Code</td>\n",
      "<td class=\"tableheading\">Security Name</td>\n",
      "<td class=\"tableheading\">Security Group</td>\n",
      "<td class=\"tableheading\">Open</td>\n",
      "<td class=\"tableheading\">High</td>\n",
      "<td class=\"tableheading\">Low</td>\n",
      "<td class=\"tableheading\">LTP</td>\n",
      "<td class=\"tableheading\">No. of Shares Traded</td>\n",
      "<td class=\"tableheading\">Total Turnover(₹ Lac.)</td>\n",
      "<td class=\"tableheading\">No. of Trades</td>\n",
      "</tr>\n",
      "</thead>\n",
      "<tbody>\n",
      "<tr ng-repeat=\"M in MktData.Table.slice(((currentPage-1)*itemsPerPage), ((currentPage)*itemsPerPage)) track by M.scrip_cd\">\n",
      "<td class=\"tdcolumn text-center\">{{M.scrip_cd}}</td>\n",
      "<!--<td class=\"tdcolumn text-center\">{{M.scripname}}</td>-->\n",
      "<td class=\"tdcolumn text-left\"><a href=\"{{M.URL|formatURL}}\" target=\"_blank\">{{M.scripname}}</a></td>\n",
      "<td class=\"tdcolumn text-center\">{{M.scrip_grp}}</td>\n",
      "<td class=\"tdcolumn text-right\">{{M.openrate|number:2}}</td>\n",
      "<td class=\"tdcolumn text-right\">{{M.highrate|number:2}}</td>\n",
      "<td class=\"tdcolumn text-right\">{{M.lowrate|number:2}}</td>\n",
      "<td class=\"tdcolumn text-right\">{{M.ltradert|number:2}}</td>\n",
      "<td class=\"tdcolumn text-right\">{{M.trd_vol|number}}</td>\n",
      "<td class=\"tdcolumn text-right\">{{M.trd_val|number:2}}</td>\n",
      "<td class=\"tdcolumn text-right\">{{M.nooftrd|number}}</td>\n",
      "</tr>\n",
      "</tbody>\n",
      "</table>\n",
      "<div class=\"text-center\" ng-show=\"MktData == undefined || MktData.Table == undefined || MktData.Table.length &lt;= 0\">No Record Found</div>\n",
      "</td>\n",
      "<tr>\n",
      "</tr></tr></tbody>\n",
      "</table>\n",
      "<div class=\"text-center redtext\" ng-show=\"MktData.Table.length &lt;= 0\"><br/><br/> No Record Found</div>\n",
      "</div>]\n"
     ]
    }
   ],
   "source": [
    "table = soup.find_all('div', attrs = {'class':'largetable'})\n",
    "print(table)"
   ]
  }
 ],
 "metadata": {
  "kernelspec": {
   "display_name": "Python 3",
   "language": "python",
   "name": "python3"
  },
  "language_info": {
   "codemirror_mode": {
    "name": "ipython",
    "version": 3
   },
   "file_extension": ".py",
   "mimetype": "text/x-python",
   "name": "python",
   "nbconvert_exporter": "python",
   "pygments_lexer": "ipython3",
   "version": "3.7.6"
  }
 },
 "nbformat": 4,
 "nbformat_minor": 4
}
