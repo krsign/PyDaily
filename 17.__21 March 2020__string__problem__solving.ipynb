{
 "cells": [
  {
   "cell_type": "markdown",
   "metadata": {},
   "source": [
    " 1. Write a Python program to remove duplicate characters of a given string."
   ]
  },
  {
   "cell_type": "code",
   "execution_count": 66,
   "metadata": {},
   "outputs": [
    {
     "name": "stdout",
     "output_type": "stream",
     "text": [
      "Without Duplicates :  adfghjks\n"
     ]
    }
   ],
   "source": [
    "def remove_duplicates(string):\n",
    "    return ''.join(sorted(set(string)))\n",
    "\n",
    "print('Without Duplicates : ',remove_duplicates('aksjdhfgfhdjs'))"
   ]
  },
  {
   "cell_type": "markdown",
   "metadata": {},
   "source": [
    "2. Write a Python program to get a string from a given string where all occurrences of its first char have been changed to @,except the first char itself.\n",
    "\n",
    "    Input: 'restart'\n",
    "\n",
    "    Output: 'resta@t'"
   ]
  },
  {
   "cell_type": "code",
   "execution_count": 68,
   "metadata": {},
   "outputs": [
    {
     "name": "stdout",
     "output_type": "stream",
     "text": [
      "resta@t\n"
     ]
    }
   ],
   "source": [
    "def first_occurence_replace(string):\n",
    "    fchar = string[0]\n",
    "    string = string.replace(fchar,'@')\n",
    "    return fchar + string[1:]\n",
    "print(first_occurence_replace('restart'))"
   ]
  },
  {
   "cell_type": "markdown",
   "metadata": {},
   "source": [
    "3. Write a Python program to get a single string from two given strings, separated by a space and swap the first characters of each string.\n",
    "\n",
    "    Input: \"abc\", \"xyz\" \n",
    "    \n",
    "    Output: \"xyc abz\""
   ]
  },
  {
   "cell_type": "code",
   "execution_count": 45,
   "metadata": {},
   "outputs": [
    {
     "name": "stdout",
     "output_type": "stream",
     "text": [
      "abz xyc\n"
     ]
    }
   ],
   "source": [
    "def swap(s1,s2):\n",
    "    return (s1[:2] + s2[-1]) +' '+ (s2[:2] + s1[-1])\n",
    "print(swap('abc','xyz'))"
   ]
  },
  {
   "cell_type": "markdown",
   "metadata": {},
   "source": [
    "4. Write a Python program to replace the characters which have odd index values of a given string with \"A\".\n",
    "\n",
    "    Input: 'abcdefghij' \n",
    "\n",
    "    Output: 'aAcAeAgAiA'"
   ]
  },
  {
   "cell_type": "code",
   "execution_count": 56,
   "metadata": {},
   "outputs": [
    {
     "name": "stdout",
     "output_type": "stream",
     "text": [
      "aAcAeAgAiA\n"
     ]
    }
   ],
   "source": [
    "def odd_replace(string):\n",
    "    for s in range(len(string)):\n",
    "        if s % 2 != 0:\n",
    "            string = string.replace(string[s],'A')\n",
    "    return string\n",
    "print(odd_replace('abcdefghij'))"
   ]
  },
  {
   "cell_type": "markdown",
   "metadata": {},
   "source": [
    "5. Write a Python function to get a string made of 4 copies of the last two characters of a specified string (length must be at least 2).\n",
    "\n",
    "    Input: 'abcd' \n",
    "    \n",
    "    Output: 'cdcdcdcd'"
   ]
  },
  {
   "cell_type": "code",
   "execution_count": 57,
   "metadata": {},
   "outputs": [
    {
     "name": "stdout",
     "output_type": "stream",
     "text": [
      "cdcdcdcd\n"
     ]
    }
   ],
   "source": [
    "def copy4(string):\n",
    "    string = (string[-2:] * 4)\n",
    "    return string\n",
    "print(copy4('abcd'))"
   ]
  },
  {
   "cell_type": "markdown",
   "metadata": {},
   "source": [
    "6. Write a Python function to reverses a string if it's length is a multiple of 4 else returns the same string.\n",
    "    \n",
    "    Input: 'abcd' \n",
    "    \n",
    "    Output: 'dcba"
   ]
  },
  {
   "cell_type": "code",
   "execution_count": 58,
   "metadata": {},
   "outputs": [
    {
     "name": "stdout",
     "output_type": "stream",
     "text": [
      "dcba\n"
     ]
    }
   ],
   "source": [
    "def reverses(string):\n",
    "    if len(string) % 4 == 0:\n",
    "        return string[::-1]\n",
    "    else:\n",
    "        return string\n",
    "print(reverses('abcd'))"
   ]
  },
  {
   "cell_type": "markdown",
   "metadata": {},
   "source": [
    "7. Write a Python program to sort a string lexicographically.\n",
    "\n",
    "    Lexicographically means a generalization of the way words are alphabetically \n",
    "    ordered based on the alphabetical order of their component letters.\n",
    "\n",
    "    Input: \"bfsaxc\"\n",
    "\n",
    "    Output: 'abcfsx'"
   ]
  },
  {
   "cell_type": "code",
   "execution_count": 7,
   "metadata": {},
   "outputs": [
    {
     "name": "stdout",
     "output_type": "stream",
     "text": [
      "abcfsx\n"
     ]
    }
   ],
   "source": [
    "def lexicograph(string):\n",
    "    return ''.join(sorted(string))\n",
    "\n",
    "print(lexicograph('bfsaxc'))"
   ]
  },
  {
   "cell_type": "markdown",
   "metadata": {},
   "source": [
    "8. Write a Python program to get a string made of the first 2 and the last 2 chars from a given a string. If the string length is less than 2, return instead of the empty string.\n",
    "\n",
    "    Input: 'davfaba' \n",
    "\n",
    "    Output: 'daba'\n"
   ]
  },
  {
   "cell_type": "code",
   "execution_count": 13,
   "metadata": {},
   "outputs": [
    {
     "name": "stdout",
     "output_type": "stream",
     "text": [
      "\n"
     ]
    }
   ],
   "source": [
    "def first_last(string):\n",
    "    if len(string) < 2:\n",
    "        return ''\n",
    "    else:\n",
    "        return (string[:2] + string[-2:])\n",
    "print(first_last('d'))"
   ]
  },
  {
   "cell_type": "markdown",
   "metadata": {},
   "source": [
    "9. Take a string and change the case. If the character is in lowercase then make it in uppercase and vice-versa if character is a digit then print the digit itself.\n",
    "\n",
    "    Input: 'abcdAnVBC1' \n",
    "\n",
    "    Output: 'ABCDaNvbc1'"
   ]
  },
  {
   "cell_type": "code",
   "execution_count": 18,
   "metadata": {},
   "outputs": [
    {
     "name": "stdout",
     "output_type": "stream",
     "text": [
      "ABCDaNvbc1\n"
     ]
    }
   ],
   "source": [
    "def vice_versa(string):\n",
    "    return string.swapcase()\n",
    "print(vice_versa('abcdAnVBC1'))"
   ]
  },
  {
   "cell_type": "markdown",
   "metadata": {},
   "source": [
    "10. Write a Python program to count the number of characters (character frequency) in a string.\n",
    "    \n",
    "    Input: 'edyoda.com'\n",
    "    \n",
    "    Output: '{e: 1,d: 2,y: 1,o: 2,a: 1,.: 1,c: 1,m: 1,}'"
   ]
  },
  {
   "cell_type": "code",
   "execution_count": 19,
   "metadata": {},
   "outputs": [
    {
     "name": "stdout",
     "output_type": "stream",
     "text": [
      "{'e': 1, 'd': 2, 'y': 1, 'o': 2, 'a': 1, '.': 1, 'c': 1, 'm': 1}\n"
     ]
    }
   ],
   "source": [
    "def count_chars(string):\n",
    "    result = {s : string.count(s) for s in string}\n",
    "    return result\n",
    "print(count_chars('edyoda.com')) "
   ]
  }
 ],
 "metadata": {
  "kernelspec": {
   "display_name": "Python 3",
   "language": "python",
   "name": "python3"
  },
  "language_info": {
   "codemirror_mode": {
    "name": "ipython",
    "version": 3
   },
   "file_extension": ".py",
   "mimetype": "text/x-python",
   "name": "python",
   "nbconvert_exporter": "python",
   "pygments_lexer": "ipython3",
   "version": "3.7.6"
  }
 },
 "nbformat": 4,
 "nbformat_minor": 4
}
