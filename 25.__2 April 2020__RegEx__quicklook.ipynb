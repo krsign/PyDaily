{
 "cells": [
  {
   "cell_type": "markdown",
   "metadata": {},
   "source": [
    "# Python RegEx\n",
    "\n",
    "    - a regular expression is a sequence of characters that defines pattern.\n",
    "    \n",
    "    - example : ^a...s$ : alias\n",
    "    \n",
    "        - any five letter starting with a and ending with s."
   ]
  },
  {
   "cell_type": "code",
   "execution_count": 1,
   "metadata": {},
   "outputs": [],
   "source": [
    "import re"
   ]
  },
  {
   "cell_type": "code",
   "execution_count": 2,
   "metadata": {},
   "outputs": [
    {
     "name": "stdout",
     "output_type": "stream",
     "text": [
      "Search successfull.\n"
     ]
    }
   ],
   "source": [
    "pattern = '^a...s$'\n",
    "string = 'abyss'\n",
    "\n",
    "result = re.match(pattern, string)\n",
    "\n",
    "if result:\n",
    "    print('Search successfull.')\n",
    "else:\n",
    "    print('Search unsuccessfull.')"
   ]
  },
  {
   "cell_type": "markdown",
   "metadata": {},
   "source": [
    "# Specify Pattern Using RegEx\n",
    "\n",
    "    - To specify regular expressions, metacharacters are used. \n",
    "\n",
    "    - In the above example, ^ and $ are metacharacters."
   ]
  },
  {
   "cell_type": "markdown",
   "metadata": {},
   "source": [
    "# Meta-characters \n",
    "    - it is interpreted in a special way by a RegEx engine.\n",
    "    - list of metacharacters:\n",
    "        - [ ] . ^ $ * + { } ( ) \\ |"
   ]
  },
  {
   "cell_type": "markdown",
   "metadata": {},
   "source": [
    "    [] :\n",
    "        [abc]  : a          : 1 match\n",
    "                 ac         : 2 match\n",
    "                 kr         : No Match\n",
    "                 abc de ca  : 5 match"
   ]
  },
  {
   "cell_type": "markdown",
   "metadata": {},
   "source": [
    "    [a-e] : is same as [abcde]\n",
    "\n",
    "    [1-4] : is same as [1234]\n",
    "\n",
    "    [0-39]: is same as [01239]"
   ]
  },
  {
   "cell_type": "code",
   "execution_count": null,
   "metadata": {},
   "outputs": [],
   "source": [
    "[^abc] means any character except a or b or c."
   ]
  },
  {
   "cell_type": "code",
   "execution_count": null,
   "metadata": {},
   "outputs": [],
   "source": [
    "[^0-9] means any non-digit character."
   ]
  },
  {
   "cell_type": "markdown",
   "metadata": {},
   "source": [
    "    . period:\n",
    "        A period matches any single character (except newline '\\n').\n",
    "\n",
    "        ..    a          : No match\n",
    "              ac         : 1 Match\n",
    "              acd        : 1 Match\n",
    "              acde       : 2 matches(contains 4 characters)"
   ]
  },
  {
   "cell_type": "markdown",
   "metadata": {},
   "source": [
    "    ^ caret:\n",
    "        The caret symbol ^ is used to check if a string starts with a certain character.\n",
    "\n",
    "        ^a      : a      : 1 match\n",
    "                  abc    : 1 match\n",
    "                  bac    : No match\n",
    "\n",
    "        ^ab     : abc    : 1 match\n",
    "                  acb    : No match"
   ]
  },
  {
   "cell_type": "code",
   "execution_count": null,
   "metadata": {},
   "outputs": [],
   "source": []
  },
  {
   "cell_type": "code",
   "execution_count": null,
   "metadata": {},
   "outputs": [],
   "source": []
  },
  {
   "cell_type": "code",
   "execution_count": null,
   "metadata": {},
   "outputs": [],
   "source": []
  },
  {
   "cell_type": "code",
   "execution_count": null,
   "metadata": {},
   "outputs": [],
   "source": []
  },
  {
   "cell_type": "code",
   "execution_count": null,
   "metadata": {},
   "outputs": [],
   "source": []
  },
  {
   "cell_type": "code",
   "execution_count": null,
   "metadata": {},
   "outputs": [],
   "source": []
  },
  {
   "cell_type": "code",
   "execution_count": null,
   "metadata": {},
   "outputs": [],
   "source": []
  },
  {
   "cell_type": "code",
   "execution_count": null,
   "metadata": {},
   "outputs": [],
   "source": []
  },
  {
   "cell_type": "code",
   "execution_count": null,
   "metadata": {},
   "outputs": [],
   "source": []
  }
 ],
 "metadata": {
  "kernelspec": {
   "display_name": "Python 3",
   "language": "python",
   "name": "python3"
  },
  "language_info": {
   "codemirror_mode": {
    "name": "ipython",
    "version": 3
   },
   "file_extension": ".py",
   "mimetype": "text/x-python",
   "name": "python",
   "nbconvert_exporter": "python",
   "pygments_lexer": "ipython3",
   "version": "3.7.6"
  }
 },
 "nbformat": 4,
 "nbformat_minor": 4
}
