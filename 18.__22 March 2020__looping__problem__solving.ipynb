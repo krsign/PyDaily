{
 "cells": [
  {
   "cell_type": "markdown",
   "metadata": {},
   "source": [
    "1. Write a python function to return the multiplication table of a given number. \n",
    "\n",
    "    Input: 5\n",
    "    \n",
    "    output:\n",
    "            5\n",
    "            10\n",
    "            15\n",
    "            20\n",
    "            25\n",
    "            30\n",
    "            35\n",
    "            40\n",
    "            45\n",
    "            50"
   ]
  },
  {
   "cell_type": "code",
   "execution_count": 17,
   "metadata": {},
   "outputs": [
    {
     "name": "stdout",
     "output_type": "stream",
     "text": [
      "5\t\n",
      "\n",
      "10\t\n",
      "\n",
      "15\t\n",
      "\n",
      "20\t\n",
      "\n",
      "25\t\n",
      "\n",
      "30\t\n",
      "\n",
      "35\t\n",
      "\n",
      "40\t\n",
      "\n",
      "45\t\n",
      "\n",
      "50\t\n",
      "\n"
     ]
    }
   ],
   "source": [
    "def mult_table(n):\n",
    "    for x in range(1,11):\n",
    "        print(n * x, end='\\t')\n",
    "        print('\\n')\n",
    "mult_table(5)"
   ]
  },
  {
   "cell_type": "markdown",
   "metadata": {},
   "source": [
    "2. Write a python program to check the given number is Armstrong number or not.\n",
    "\n",
    "    NOTE: A number is called Armstrong number if it is equal to the sum of its own digits raised to the power of\n",
    "    number of digits.\n",
    "    \n",
    "    Example- 153 = (1^3)+(5^3)+(3^3) = 1+125+27 = 153\n",
    "    \n",
    "    Input: 153 \n",
    "    \n",
    "    Output: True\n"
   ]
  },
  {
   "cell_type": "code",
   "execution_count": 1,
   "metadata": {},
   "outputs": [
    {
     "name": "stdout",
     "output_type": "stream",
     "text": [
      "True\n"
     ]
    }
   ],
   "source": [
    "def armstrong(num):\n",
    "    \n",
    "    sum = 0\n",
    "    temp = num\n",
    "    \n",
    "    while temp > 0:\n",
    "        digit = temp % 10\n",
    "        sum += digit ** 3\n",
    "        temp //= 10\n",
    "        \n",
    "    if num == sum:\n",
    "        return True\n",
    "    else:\n",
    "        return False\n",
    "    \n",
    "print(armstrong(153))"
   ]
  },
  {
   "cell_type": "markdown",
   "metadata": {},
   "source": [
    "3. Write a Python program check following conditions on an integer.\n",
    "\n",
    "    a) For multiples of three return \"Fizz\"\n",
    "    \n",
    "    b) For the multiples of five return \"Buzz\".\n",
    "    \n",
    "    c) For numbers which are multiples of both three and \\ve print \"FizzBuzz\".\n",
    "    \n",
    "    Input: 15\n",
    "    \n",
    "    Output: \"FIzzBuzz\"\n"
   ]
  },
  {
   "cell_type": "code",
   "execution_count": 12,
   "metadata": {},
   "outputs": [
    {
     "name": "stdout",
     "output_type": "stream",
     "text": [
      "Buzz\n"
     ]
    }
   ],
   "source": [
    "def numbers(num):\n",
    "    \n",
    "    while True:\n",
    "        if num % 3 == 0 and num % 5 == 0:\n",
    "            return 'FizzBuzz'\n",
    "        elif num % 3 == 0:\n",
    "            return 'Fizz'\n",
    "        else:\n",
    "            return 'Buzz'\n",
    "        \n",
    "print(numbers(25))"
   ]
  },
  {
   "cell_type": "markdown",
   "metadata": {},
   "source": [
    "4. Write a program to \\nd the greatest common divisor (GCD) or highest common factor (HCF) of given two numbers.\n",
    "    \n",
    "    Input: 54, 24 \n",
    "    \n",
    "    Output: 6\n",
    "               "
   ]
  },
  {
   "cell_type": "code",
   "execution_count": null,
   "metadata": {},
   "outputs": [],
   "source": []
  },
  {
   "cell_type": "markdown",
   "metadata": {},
   "source": [
    "5. Write a program to sort a given array without using built-in functions.\n",
    "\n",
    "      Input: [5,9,7,3,1,5,97,6,3,7] \n",
    "      \n",
    "      Output: [1, 3, 3, 5, 5, 6, 7, 7, 9, 97]\n"
   ]
  },
  {
   "cell_type": "code",
   "execution_count": null,
   "metadata": {},
   "outputs": [],
   "source": []
  },
  {
   "cell_type": "code",
   "execution_count": null,
   "metadata": {},
   "outputs": [],
   "source": []
  },
  {
   "cell_type": "code",
   "execution_count": null,
   "metadata": {},
   "outputs": [],
   "source": []
  }
 ],
 "metadata": {
  "kernelspec": {
   "display_name": "Python 3",
   "language": "python",
   "name": "python3"
  },
  "language_info": {
   "codemirror_mode": {
    "name": "ipython",
    "version": 3
   },
   "file_extension": ".py",
   "mimetype": "text/x-python",
   "name": "python",
   "nbconvert_exporter": "python",
   "pygments_lexer": "ipython3",
   "version": "3.7.6"
  }
 },
 "nbformat": 4,
 "nbformat_minor": 4
}
